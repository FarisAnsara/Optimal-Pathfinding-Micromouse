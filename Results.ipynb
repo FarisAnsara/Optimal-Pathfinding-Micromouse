{
 "cells": [
  {
   "cell_type": "markdown",
   "source": [
    "# Results notebook\n",
    "\n",
    "In this notebook, I have tested out the different algorithms:\n",
    "- how long they take to find the goal position\n",
    "- memory usage\n",
    "- how optimal is the path, this is shown by:\n",
    "    - distance of the path\n",
    "    - how many turns need to be taken\n",
    "    - also modelling the acceleration of the mouse, we can account for the time it \"would\" take in real time to travel a path "
   ],
   "metadata": {
    "collapsed": false
   },
   "id": "d6b169da14f32a12"
  },
  {
   "cell_type": "code",
   "execution_count": 9,
   "outputs": [],
   "source": [
    "import os\n",
    "import glob\n",
    "from Utilities import Maze"
   ],
   "metadata": {
    "collapsed": false,
    "ExecuteTime": {
     "end_time": "2024-08-06T19:31:00.998295600Z",
     "start_time": "2024-08-06T19:31:00.982436300Z"
    }
   },
   "id": "32c1acf1409b059b"
  },
  {
   "cell_type": "code",
   "execution_count": 5,
   "outputs": [
    {
     "ename": "TypeError",
     "evalue": "'module' object is not iterable",
     "output_type": "error",
     "traceback": [
      "\u001B[1;31m---------------------------------------------------------------------------\u001B[0m",
      "\u001B[1;31mTypeError\u001B[0m                                 Traceback (most recent call last)",
      "\u001B[1;32m<ipython-input-5-b7f780a65c70>\u001B[0m in \u001B[0;36m<module>\u001B[1;34m\u001B[0m\n\u001B[1;32m----> 1\u001B[1;33m \u001B[1;32mfor\u001B[0m \u001B[0mmaze\u001B[0m \u001B[1;32min\u001B[0m \u001B[0mclassic_json\u001B[0m\u001B[1;33m:\u001B[0m\u001B[1;33m\u001B[0m\u001B[1;33m\u001B[0m\u001B[0m\n\u001B[0m\u001B[0;32m      2\u001B[0m     \u001B[0mprint\u001B[0m\u001B[1;33m(\u001B[0m\u001B[0mmaze\u001B[0m\u001B[1;33m)\u001B[0m\u001B[1;33m\u001B[0m\u001B[1;33m\u001B[0m\u001B[0m\n",
      "\u001B[1;31mTypeError\u001B[0m: 'module' object is not iterable"
     ]
    }
   ],
   "source": [],
   "metadata": {
    "collapsed": false,
    "ExecuteTime": {
     "end_time": "2024-08-06T19:27:44.316835700Z",
     "start_time": "2024-08-06T19:27:44.061759500Z"
    }
   },
   "id": "ef15bb3875ccc5fe"
  }
 ],
 "metadata": {
  "kernelspec": {
   "display_name": "Python 3",
   "language": "python",
   "name": "python3"
  },
  "language_info": {
   "codemirror_mode": {
    "name": "ipython",
    "version": 2
   },
   "file_extension": ".py",
   "mimetype": "text/x-python",
   "name": "python",
   "nbconvert_exporter": "python",
   "pygments_lexer": "ipython2",
   "version": "2.7.6"
  }
 },
 "nbformat": 4,
 "nbformat_minor": 5
}
