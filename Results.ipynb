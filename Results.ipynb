{
 "cells": [
  {
   "cell_type": "markdown",
   "id": "d6b169da14f32a12",
   "metadata": {
    "collapsed": false
   },
   "source": [
    "\n",
    "# Results notebook\n",
    "\n",
    "In this notebook, I have tested out the different algorithms:\n",
    "- how long they take to find the goal position, for this, start timer and end timer\n",
    "- memory usage, need to figure this out\n",
    "- how optimal is the path, this is shown by:\n",
    "    - distance of the path\n",
    "    - how many turns need to be taken\n",
    "    - Using the stats.get_time_to_path(path) func, it can show which path truly takes the least time not depending on distance traveled or number of turns\n",
    "- To compare between diff algorithms, I need to compare:\n",
    "    - memory usage by each algorithm (if more than 2gbs, there is a problem)\n",
    "    - Time it takes for path taken (most important I think)\n",
    "    - Time taken for algorithm to run\n",
    "    - Maybe need to run and algorithm on each maze for figuring out the maze, the floodfill x BFS, or just BFS, this will help identify in real life, how long it would take to figure out the maze before the algorithms even start. Most prob would be all offline. If online, we store the path taken by each algorithm, use that same algorithm to get the path back to the start (or use floodfill) while simulatuasly running the algorithm to find the path to get the path to centre. This would give me the time for everything given that I have 10 mins to try taking the most optimal path. ////"
   ]
  },
  {
   "cell_type": "markdown",
   "id": "e0aa5754fe886280",
   "metadata": {
    "collapsed": false
   },
   "source": []
  },
  {
   "cell_type": "markdown",
   "id": "c95c22ebe2e8ca29",
   "metadata": {
    "collapsed": false
   },
   "source": [
    "To compare your algorithms effectively, especially with a dataset of around 300 mazes from previous competitions, you'll want to consider multiple metrics that highlight different aspects of performance. Here's a structured approach you can use:\n",
    "\n",
    "### 1. **Metrics Collection**\n",
    "   - **Memory Usage**: Track the peak and average memory usage during the algorithm's execution. This will help you understand the memory efficiency of each algorithm.\n",
    "   - **Execution Time**: Measure the total time taken to find a solution for each maze. This includes the entire runtime of the algorithm, from start to finish.\n",
    "   - **Path Quality Metrics**:\n",
    "     - **Time to Traverse Path**: Calculate the time the micromouse would take to follow the path, considering acceleration, deceleration, and turns. This helps assess how optimal the path is in practice.\n",
    "     - **Path Length**: Measure the total distance of the path found by the algorithm. Shorter paths are typically better.\n",
    "     - **Number of Turns**: Count the number of turns in the path. Fewer turns can indicate a more efficient path in terms of maintaining speed and reducing wear on the mouse.\n",
    "\n",
    "### 2. **Data Aggregation**\n",
    "   - **Mean and Median**: Calculate the mean and median of each metric across all 300 mazes. This will give you an idea of the overall performance and consistency of each algorithm.\n",
    "   - **Standard Deviation**: Assess the variability in performance. High variance might indicate that the algorithm performs well in some cases but poorly in others.\n",
    "   - **Percentiles**: Look at the 25th, 50th (median), and 75th percentiles to understand the distribution of performance metrics.\n",
    "\n",
    "### 3. **Comparison Criteria**\n",
    "   - **Efficiency**: Compare the execution time and memory usage. Algorithms that use less memory and run faster are more efficient.\n",
    "   - **Path Optimality**: Compare the path quality metrics (time to traverse, path length, number of turns). Algorithms that consistently find shorter, faster paths with fewer turns are more optimal.\n",
    "   - **Robustness**: Consider how each algorithm handles different maze complexities (e.g., simple vs. complex mazes). An algorithm that performs consistently well across all types of mazes might be more robust.\n",
    "\n",
    "### 4. **Visualization**\n",
    "   - **Box Plots**: Use box plots to visualize the distribution of metrics like execution time, path length, and the number of turns. This will help you identify outliers and the general distribution of your data.\n",
    "   - **Bar Charts**: For comparing mean values across algorithms, bar charts can be useful.\n",
    "   - **Scatter Plots**: If you want to visualize the relationship between two metrics (e.g., path length vs. number of turns), scatter plots can be insightful.\n",
    "\n",
    "### 5. **Statistical Analysis**\n",
    "   - **ANOVA or Kruskal-Wallis Test**: Use these statistical tests to determine if there are significant differences in performance metrics between the algorithms.\n",
    "   - **Pairwise Comparisons**: If you find significant differences, use pairwise comparison tests (like Tukey's HSD) to determine which algorithms differ significantly from each other.\n",
    "\n",
    "### 6. **Benchmarking and Case Studies**\n",
    "   - **Benchmark Mazes**: Identify a few representative mazes from your dataset that are particularly challenging or typical. Compare how each algorithm performs on these mazes in detail.\n",
    "   - **Case Studies**: Perform a detailed analysis of a few selected mazes where algorithms show distinct performance differences. This can provide insights into why certain algorithms perform better or worse in specific scenarios.\n",
    "\n",
    "### 7. **Summary and Recommendations**\n",
    "   - **Rank the Algorithms**: Based on the collected data, rank the algorithms according to different criteria (e.g., overall efficiency, path optimality).\n",
    "   - **Identify Trade-offs**: Highlight any trade-offs between different algorithms (e.g., one might be faster but produce longer paths).\n",
    "   - **Make Recommendations**: Based on your findings, recommend which algorithm might be best suited for different types of mazes or competition settings.\n",
    "\n",
    "This comprehensive approach will allow you to make well-informed decisions about which algorithm is the best overall and which might be better suited to specific scenarios."
   ]
  },
  {
   "cell_type": "markdown",
   "source": [],
   "metadata": {
    "collapsed": false
   },
   "id": "7344f4949f3cd5cf"
  },
  {
   "cell_type": "code",
   "execution_count": 1,
   "id": "32c1acf1409b059b",
   "metadata": {
    "collapsed": false,
    "ExecuteTime": {
     "end_time": "2024-08-20T21:32:52.850390200Z",
     "start_time": "2024-08-20T21:32:51.947429500Z"
    }
   },
   "outputs": [
    {
     "name": "stderr",
     "output_type": "stream",
     "text": [
      "C:\\Users\\ACER\\AppData\\Local\\Temp\\ipykernel_4608\\3884277656.py:19: DeprecationWarning: \n",
      "Pyarrow will become a required dependency of pandas in the next major release of pandas (pandas 3.0),\n",
      "(to allow more performant data types, such as the Arrow string type, and better interoperability with other libraries)\n",
      "but was not found to be installed on your system.\n",
      "If this would cause problems for you,\n",
      "please provide us feedback at https://github.com/pandas-dev/pandas/issues/54466\n",
      "        \n",
      "  import pandas as pd\n"
     ]
    }
   ],
   "source": [
    "import glob\n",
    "import json\n",
    "import os\n",
    "\n",
    "from algorithms.utilities.Utils import Utils\n",
    "from algorithms.utilities.Stats import Stats\n",
    "\n",
    "from algorithms.classical.floodfill.FloodFill import FloodFill\n",
    "from algorithms.classical.bfs.BFS import BFS\n",
    "from algorithms.classical.dijkstra.Dijkstra import Dijkstra\n",
    "from algorithms.classical.astar.AStar import AStar\n",
    "\n",
    "from algorithms.reinforcement_learning.sarsa.Sarsa import Sarsa\n",
    "from algorithms.reinforcement_learning.q_learning.Qlearning import QLearning\n",
    "from algorithms.reinforcement_learning.dynaq.DynaQLearning import DynaQLearning\n",
    "from algorithms.reinforcement_learning.dynaq.DynaQSarsa import DynaQSarsa\n",
    "\n",
    "from algorithms.ExploreMaze import ExploreMaze\n",
    "import pandas as pd\n"
   ]
  },
  {
   "cell_type": "code",
   "execution_count": 2,
   "id": "ef15bb3875ccc5fe",
   "metadata": {
    "collapsed": false,
    "ExecuteTime": {
     "end_time": "2024-08-20T21:32:52.955295200Z",
     "start_time": "2024-08-20T21:32:52.857397Z"
    }
   },
   "outputs": [],
   "source": [
    "maze = Utils.load_maze('mazes/competition_json/alljapan-031-2010-exp-fin.json')"
   ]
  },
  {
   "cell_type": "code",
   "execution_count": 3,
   "id": "df6cebec09b2a12f",
   "metadata": {
    "collapsed": false,
    "ExecuteTime": {
     "end_time": "2024-08-20T21:32:52.955295200Z",
     "start_time": "2024-08-20T21:32:52.952023800Z"
    }
   },
   "outputs": [],
   "source": [
    "def get_mazes_json(dirname):\n",
    "    mazes = {}\n",
    "    for maze_file in glob.glob(os.path.join(dirname, '*.json')):\n",
    "        with open(maze_file, 'r') as f:\n",
    "            maze_name = maze_file.split('\\\\')[1]\n",
    "            maze_name = maze_name.split('.')[0]\n",
    "            mazes[maze_name] = {eval(k): v for k, v in json.load(f).items()} \n",
    "    return mazes"
   ]
  },
  {
   "cell_type": "code",
   "execution_count": 4,
   "id": "e3c9dbe8af4ae4eb",
   "metadata": {
    "collapsed": false,
    "ExecuteTime": {
     "end_time": "2024-08-20T21:32:54.916809300Z",
     "start_time": "2024-08-20T21:32:52.955295200Z"
    }
   },
   "outputs": [],
   "source": [
    "mazes = get_mazes_json('mazes/competition_json')"
   ]
  },
  {
   "cell_type": "code",
   "execution_count": 5,
   "id": "c7b9a85df172ed45",
   "metadata": {
    "collapsed": false,
    "ExecuteTime": {
     "end_time": "2024-08-20T21:32:54.922724500Z",
     "start_time": "2024-08-20T21:32:54.922216800Z"
    }
   },
   "outputs": [],
   "source": [
    "import time\n",
    "def get_runtime(start_time):\n",
    "    end_time = time.perf_counter_ns()\n",
    "    return end_time - start_time"
   ]
  },
  {
   "cell_type": "code",
   "execution_count": 6,
   "id": "44c10764",
   "metadata": {
    "ExecuteTime": {
     "end_time": "2024-08-20T21:32:55.201094200Z",
     "start_time": "2024-08-20T21:32:54.922724500Z"
    }
   },
   "outputs": [],
   "source": [
    "remove_mazes = []\n",
    "for name, item in mazes.items():\n",
    "    try:\n",
    "        flood = FloodFill(walls=item)\n",
    "        path = flood.get_path_from_flood_map()\n",
    "    except Exception as e:\n",
    "        remove_mazes.append(name)\n",
    "\n",
    "for name in remove_mazes:\n",
    "    del mazes[name]"
   ]
  },
  {
   "cell_type": "markdown",
   "id": "557d75cada83c8a7",
   "metadata": {
    "collapsed": false
   },
   "source": [
    "## Classical Algorithms"
   ]
  },
  {
   "cell_type": "code",
   "execution_count": 7,
   "id": "b87b6d5ee82acc3e",
   "metadata": {
    "collapsed": false,
    "ExecuteTime": {
     "end_time": "2024-08-20T21:32:55.205606500Z",
     "start_time": "2024-08-20T21:32:55.201094200Z"
    }
   },
   "outputs": [],
   "source": [
    "# utils = Utils()\n",
    "# stats = Stats()\n",
    "# explore = ExploreMaze(maze=maze)\n",
    "# explore.move_and_floodfill()\n",
    "# walls = explore.get_walls()\n",
    "# utils.draw_maze(walls, dist_map=explore.flood_fill(explore.get_goal_position()), path=explore.path)\n",
    "# # print(walls == maze)\n",
    "# print(explore.path)\n",
    "# print(stats.get_time_from_path(explore.path))"
   ]
  },
  {
   "cell_type": "markdown",
   "id": "7f936747",
   "metadata": {},
   "source": [
    "### Floodfill"
   ]
  },
  {
   "cell_type": "code",
   "execution_count": 8,
   "id": "95dafdb1ee23cfa4",
   "metadata": {
    "collapsed": false,
    "ExecuteTime": {
     "end_time": "2024-08-20T21:32:56.880347100Z",
     "start_time": "2024-08-20T21:32:55.205606500Z"
    }
   },
   "outputs": [],
   "source": [
    "stats = Stats()\n",
    "flood_paths = []\n",
    "flood_path_times = []\n",
    "flood_turns = []\n",
    "flood_distances = []\n",
    "flood_cells_travelled = []\n",
    "flood_exec_time = []\n",
    "flood_memory = []\n",
    "for name, item in mazes.items():\n",
    "    start_time = time.perf_counter_ns()\n",
    "    flood = FloodFill(walls=item)\n",
    "    flood_exec_time.append(get_runtime(start_time) * pow(10, -3))\n",
    "    path = flood.get_path_from_flood_map()\n",
    "    flood_paths.append(path)\n",
    "    flood_path_times.append(stats.get_time_from_path(path))\n",
    "    dist, turns = flood.get_stats()\n",
    "    flood_cells_travelled.append(dist)\n",
    "    flood_distances.append(stats.get_dist_travelled())\n",
    "    flood_turns.append(turns)\n",
    "    flood_memory.append(flood.total_memory_used)\n",
    "\n",
    "maze_names = mazes.keys()\n",
    "\n",
    "data = {\n",
    "    'Maze Name': maze_names,\n",
    "    'Path': flood_paths,\n",
    "    'Path Time (s)': flood_path_times,\n",
    "    'Turns': flood_turns,\n",
    "    'Distance Travelled (m)': flood_distances,\n",
    "    'Execution Time (micro secs)': flood_exec_time,\n",
    "    'Memory Usage (MB)': flood_memory,\n",
    "    'Cells Travelled': flood_cells_travelled\n",
    "}\n",
    "\n",
    "flood_fill_df = pd.DataFrame(data).set_index('Maze Name')\n",
    "flood_fill_df.to_csv('results/csv_files/competition/flood_fill.csv')"
   ]
  },
  {
   "cell_type": "code",
   "execution_count": 9,
   "id": "d38d8c1de4902b91",
   "metadata": {
    "collapsed": false,
    "ExecuteTime": {
     "end_time": "2024-08-20T21:32:57.302807400Z",
     "start_time": "2024-08-20T21:32:56.880347100Z"
    }
   },
   "outputs": [
    {
     "data": {
      "text/plain": "                                                        Path  Path Time (s)  \\\nMaze Name                                                                     \n13ye       [(0, 0), (0, 1), (0, 2), (0, 3), (0, 4), (0, 5...      18.241782   \n50         [(0, 0), (0, 1), (0, 2), (0, 3), (0, 4), (0, 5...      27.575872   \n86         [(0, 0), (0, 1), (0, 2), (0, 3), (0, 4), (0, 5...       5.598013   \n87sin      [(0, 0), (0, 1), (0, 2), (0, 3), (1, 3), (1, 2...      13.623074   \n87us1      [(0, 0), (0, 1), (0, 2), (0, 3), (0, 4), (0, 5...      24.619658   \n...                                                      ...            ...   \nxx         [(0, 0), (0, 1), (0, 2), (0, 3), (0, 4), (0, 5...       9.109604   \nyama2002   [(0, 0), (0, 1), (0, 2), (0, 3), (0, 4), (0, 5...      14.739266   \nyama7      [(0, 0), (0, 1), (0, 2), (1, 2), (2, 2), (3, 2...      12.889292   \nyama89     [(0, 0), (0, 1), (0, 2), (0, 3), (1, 3), (2, 3...      10.080208   \nzigzag     [(0, 0), (0, 1), (1, 1), (1, 0), (2, 0), (2, 1...     150.495192   \n\n           Turns  Distance Travelled (m)  Execution Time (micro secs)  \\\nMaze Name                                                               \n13ye          21                   11.97                        112.8   \n50            38                   11.25                        115.2   \n86             6                    3.69                        132.9   \n87sin         15                    8.55                         86.6   \n87us1         32                   11.25                         81.1   \n...          ...                     ...                          ...   \nxx             9                    6.75                         88.0   \nyama2002      16                    9.63                        209.1   \nyama7         14                    8.55                         80.0   \nyama89        11                    6.57                         79.4   \nzigzag       232                   43.11                         74.6   \n\n           Memory Usage (MB)  Cells Travelled  \nMaze Name                                      \n13ye                0.000000               68  \n50                  0.000000               64  \n86                  0.000000               25  \n87sin               0.000000               49  \n87us1               0.000000               65  \n...                      ...              ...  \nxx                  0.003906               40  \nyama2002            0.007812               55  \nyama7               0.003906               54  \nyama89              0.003906               40  \nzigzag              0.000000              241  \n\n[491 rows x 7 columns]",
      "text/html": "<div>\n<style scoped>\n    .dataframe tbody tr th:only-of-type {\n        vertical-align: middle;\n    }\n\n    .dataframe tbody tr th {\n        vertical-align: top;\n    }\n\n    .dataframe thead th {\n        text-align: right;\n    }\n</style>\n<table border=\"1\" class=\"dataframe\">\n  <thead>\n    <tr style=\"text-align: right;\">\n      <th></th>\n      <th>Path</th>\n      <th>Path Time (s)</th>\n      <th>Turns</th>\n      <th>Distance Travelled (m)</th>\n      <th>Execution Time (micro secs)</th>\n      <th>Memory Usage (MB)</th>\n      <th>Cells Travelled</th>\n    </tr>\n    <tr>\n      <th>Maze Name</th>\n      <th></th>\n      <th></th>\n      <th></th>\n      <th></th>\n      <th></th>\n      <th></th>\n      <th></th>\n    </tr>\n  </thead>\n  <tbody>\n    <tr>\n      <th>13ye</th>\n      <td>[(0, 0), (0, 1), (0, 2), (0, 3), (0, 4), (0, 5...</td>\n      <td>18.241782</td>\n      <td>21</td>\n      <td>11.97</td>\n      <td>112.8</td>\n      <td>0.000000</td>\n      <td>68</td>\n    </tr>\n    <tr>\n      <th>50</th>\n      <td>[(0, 0), (0, 1), (0, 2), (0, 3), (0, 4), (0, 5...</td>\n      <td>27.575872</td>\n      <td>38</td>\n      <td>11.25</td>\n      <td>115.2</td>\n      <td>0.000000</td>\n      <td>64</td>\n    </tr>\n    <tr>\n      <th>86</th>\n      <td>[(0, 0), (0, 1), (0, 2), (0, 3), (0, 4), (0, 5...</td>\n      <td>5.598013</td>\n      <td>6</td>\n      <td>3.69</td>\n      <td>132.9</td>\n      <td>0.000000</td>\n      <td>25</td>\n    </tr>\n    <tr>\n      <th>87sin</th>\n      <td>[(0, 0), (0, 1), (0, 2), (0, 3), (1, 3), (1, 2...</td>\n      <td>13.623074</td>\n      <td>15</td>\n      <td>8.55</td>\n      <td>86.6</td>\n      <td>0.000000</td>\n      <td>49</td>\n    </tr>\n    <tr>\n      <th>87us1</th>\n      <td>[(0, 0), (0, 1), (0, 2), (0, 3), (0, 4), (0, 5...</td>\n      <td>24.619658</td>\n      <td>32</td>\n      <td>11.25</td>\n      <td>81.1</td>\n      <td>0.000000</td>\n      <td>65</td>\n    </tr>\n    <tr>\n      <th>...</th>\n      <td>...</td>\n      <td>...</td>\n      <td>...</td>\n      <td>...</td>\n      <td>...</td>\n      <td>...</td>\n      <td>...</td>\n    </tr>\n    <tr>\n      <th>xx</th>\n      <td>[(0, 0), (0, 1), (0, 2), (0, 3), (0, 4), (0, 5...</td>\n      <td>9.109604</td>\n      <td>9</td>\n      <td>6.75</td>\n      <td>88.0</td>\n      <td>0.003906</td>\n      <td>40</td>\n    </tr>\n    <tr>\n      <th>yama2002</th>\n      <td>[(0, 0), (0, 1), (0, 2), (0, 3), (0, 4), (0, 5...</td>\n      <td>14.739266</td>\n      <td>16</td>\n      <td>9.63</td>\n      <td>209.1</td>\n      <td>0.007812</td>\n      <td>55</td>\n    </tr>\n    <tr>\n      <th>yama7</th>\n      <td>[(0, 0), (0, 1), (0, 2), (1, 2), (2, 2), (3, 2...</td>\n      <td>12.889292</td>\n      <td>14</td>\n      <td>8.55</td>\n      <td>80.0</td>\n      <td>0.003906</td>\n      <td>54</td>\n    </tr>\n    <tr>\n      <th>yama89</th>\n      <td>[(0, 0), (0, 1), (0, 2), (0, 3), (1, 3), (2, 3...</td>\n      <td>10.080208</td>\n      <td>11</td>\n      <td>6.57</td>\n      <td>79.4</td>\n      <td>0.003906</td>\n      <td>40</td>\n    </tr>\n    <tr>\n      <th>zigzag</th>\n      <td>[(0, 0), (0, 1), (1, 1), (1, 0), (2, 0), (2, 1...</td>\n      <td>150.495192</td>\n      <td>232</td>\n      <td>43.11</td>\n      <td>74.6</td>\n      <td>0.000000</td>\n      <td>241</td>\n    </tr>\n  </tbody>\n</table>\n<p>491 rows × 7 columns</p>\n</div>"
     },
     "execution_count": 9,
     "metadata": {},
     "output_type": "execute_result"
    }
   ],
   "source": [
    "flood_fill_df"
   ]
  },
  {
   "cell_type": "code",
   "execution_count": 10,
   "id": "8777f73fd5df6023",
   "metadata": {
    "collapsed": false,
    "ExecuteTime": {
     "end_time": "2024-08-20T21:32:57.309422200Z",
     "start_time": "2024-08-20T21:32:57.302807400Z"
    }
   },
   "outputs": [],
   "source": [
    "# flood = FloodFill(walls=maze)\n",
    "# flood_path = flood.get_path_from_flood_map()\n",
    "# print(flood.get_stats())"
   ]
  },
  {
   "cell_type": "code",
   "execution_count": 11,
   "id": "e1cedb57e8bfaf18",
   "metadata": {
    "collapsed": false,
    "ExecuteTime": {
     "end_time": "2024-08-20T21:32:57.322318700Z",
     "start_time": "2024-08-20T21:32:57.309422200Z"
    }
   },
   "outputs": [],
   "source": [
    "# Utils().draw_maze(walls=maze, path=flood_path, dist_map= flood.flood_map)"
   ]
  },
  {
   "cell_type": "code",
   "execution_count": 12,
   "id": "73acb31525d3c010",
   "metadata": {
    "collapsed": false,
    "ExecuteTime": {
     "end_time": "2024-08-20T21:32:57.327229600Z",
     "start_time": "2024-08-20T21:32:57.315673700Z"
    }
   },
   "outputs": [],
   "source": [
    "# stats = Stats()\n",
    "# print(stats.get_time_from_path(flood_path))"
   ]
  },
  {
   "cell_type": "markdown",
   "id": "f3278763",
   "metadata": {},
   "source": [
    "### BFS"
   ]
  },
  {
   "cell_type": "code",
   "execution_count": 13,
   "id": "2d76f99505a6f1a",
   "metadata": {
    "collapsed": false,
    "ExecuteTime": {
     "end_time": "2024-08-20T21:33:01.655768400Z",
     "start_time": "2024-08-20T21:32:57.325338700Z"
    }
   },
   "outputs": [],
   "source": [
    "stats = Stats()\n",
    "bfs_paths = []\n",
    "bfs_path_times = []\n",
    "bfs_turns = []\n",
    "bfs_distances = []\n",
    "bfs_cells_travelled = []\n",
    "bfs_exec_time = []\n",
    "bfs_memory = []\n",
    "for name, item in mazes.items():\n",
    "    start_time = time.perf_counter_ns()\n",
    "    bfs = BFS(walls=item)\n",
    "    bfs_exec_time.append(get_runtime(start_time) * pow(10, -3))\n",
    "    path = bfs.find_shortest_path_to_goal()\n",
    "    bfs_paths.append(path)\n",
    "    bfs_path_times.append(stats.get_time_from_path(path))\n",
    "    dist, turns = bfs.get_stats()\n",
    "    bfs_cells_travelled.append(dist)\n",
    "    bfs_distances.append(stats.get_dist_travelled())\n",
    "    bfs_turns.append(turns)\n",
    "    bfs_memory.append(bfs.total_memory_used)\n",
    "\n",
    "maze_names = mazes.keys()\n",
    "\n",
    "data = {\n",
    "    'Maze Name': maze_names,\n",
    "    'Path': bfs_paths,\n",
    "    'Path Time (s)': bfs_path_times,\n",
    "    'Turns': bfs_turns,\n",
    "    'Distance Travelled (m)': bfs_distances,\n",
    "    'Execution Time (micro secs)': bfs_exec_time,\n",
    "    'Memory Usage (MB)': bfs_memory,\n",
    "    'Cells Travelled': bfs_cells_travelled\n",
    "}\n",
    "\n",
    "bfs_df = pd.DataFrame(data).set_index('Maze Name')\n",
    "bfs_df.to_csv('results/csv_files/competition/bfs.csv')"
   ]
  },
  {
   "cell_type": "code",
   "execution_count": 14,
   "id": "f6356e240f7e9747",
   "metadata": {
    "collapsed": false,
    "ExecuteTime": {
     "end_time": "2024-08-20T21:33:02.014238100Z",
     "start_time": "2024-08-20T21:33:01.655768400Z"
    }
   },
   "outputs": [
    {
     "data": {
      "text/plain": "                                                        Path  Path Time (s)  \\\nMaze Name                                                                     \n13ye       [(0, 0), (0, 1), (0, 2), (0, 3), (0, 4), (0, 5...      19.481086   \n50         [(0, 0), (0, 1), (0, 2), (0, 3), (0, 4), (0, 5...      27.575872   \n86         [(0, 0), (0, 1), (0, 2), (0, 3), (0, 4), (0, 5...       5.598013   \n87sin      [(0, 0), (0, 1), (0, 2), (0, 3), (1, 3), (1, 2...      14.794908   \n87us1      [(0, 0), (0, 1), (0, 2), (0, 3), (0, 4), (0, 5...      24.619658   \n...                                                      ...            ...   \nxx         [(0, 0), (0, 1), (0, 2), (0, 3), (0, 4), (0, 5...      11.547772   \nyama2002   [(0, 0), (0, 1), (0, 2), (0, 3), (0, 4), (0, 5...      14.739266   \nyama7      [(0, 0), (0, 1), (0, 2), (1, 2), (2, 2), (3, 2...      12.889292   \nyama89     [(0, 0), (0, 1), (0, 2), (0, 3), (1, 3), (2, 3...      11.259959   \nzigzag     [(0, 0), (0, 1), (1, 1), (1, 0), (2, 0), (2, 1...     150.495192   \n\n           Turns  Distance Travelled (m)  Execution Time (micro secs)  \\\nMaze Name                                                               \n13ye          23                   11.97                        116.1   \n50            38                   11.25                        108.0   \n86             6                    3.69                         85.1   \n87sin         17                    8.55                         84.2   \n87us1         32                   11.25                         90.8   \n...          ...                     ...                          ...   \nxx            13                    6.75                         67.2   \nyama2002      16                    9.63                        100.2   \nyama7         14                    8.55                         69.2   \nyama89        13                    6.57                         67.5   \nzigzag       232                   43.11                         66.7   \n\n           Memory Usage (MB)  Cells Travelled  \nMaze Name                                      \n13ye                0.000000               68  \n50                  0.000000               64  \n86                  0.000000               25  \n87sin               0.003906               49  \n87us1               0.000000               65  \n...                      ...              ...  \nxx                  0.000000               40  \nyama2002            0.000000               55  \nyama7               0.000000               54  \nyama89              0.000000               40  \nzigzag              0.000000              241  \n\n[491 rows x 7 columns]",
      "text/html": "<div>\n<style scoped>\n    .dataframe tbody tr th:only-of-type {\n        vertical-align: middle;\n    }\n\n    .dataframe tbody tr th {\n        vertical-align: top;\n    }\n\n    .dataframe thead th {\n        text-align: right;\n    }\n</style>\n<table border=\"1\" class=\"dataframe\">\n  <thead>\n    <tr style=\"text-align: right;\">\n      <th></th>\n      <th>Path</th>\n      <th>Path Time (s)</th>\n      <th>Turns</th>\n      <th>Distance Travelled (m)</th>\n      <th>Execution Time (micro secs)</th>\n      <th>Memory Usage (MB)</th>\n      <th>Cells Travelled</th>\n    </tr>\n    <tr>\n      <th>Maze Name</th>\n      <th></th>\n      <th></th>\n      <th></th>\n      <th></th>\n      <th></th>\n      <th></th>\n      <th></th>\n    </tr>\n  </thead>\n  <tbody>\n    <tr>\n      <th>13ye</th>\n      <td>[(0, 0), (0, 1), (0, 2), (0, 3), (0, 4), (0, 5...</td>\n      <td>19.481086</td>\n      <td>23</td>\n      <td>11.97</td>\n      <td>116.1</td>\n      <td>0.000000</td>\n      <td>68</td>\n    </tr>\n    <tr>\n      <th>50</th>\n      <td>[(0, 0), (0, 1), (0, 2), (0, 3), (0, 4), (0, 5...</td>\n      <td>27.575872</td>\n      <td>38</td>\n      <td>11.25</td>\n      <td>108.0</td>\n      <td>0.000000</td>\n      <td>64</td>\n    </tr>\n    <tr>\n      <th>86</th>\n      <td>[(0, 0), (0, 1), (0, 2), (0, 3), (0, 4), (0, 5...</td>\n      <td>5.598013</td>\n      <td>6</td>\n      <td>3.69</td>\n      <td>85.1</td>\n      <td>0.000000</td>\n      <td>25</td>\n    </tr>\n    <tr>\n      <th>87sin</th>\n      <td>[(0, 0), (0, 1), (0, 2), (0, 3), (1, 3), (1, 2...</td>\n      <td>14.794908</td>\n      <td>17</td>\n      <td>8.55</td>\n      <td>84.2</td>\n      <td>0.003906</td>\n      <td>49</td>\n    </tr>\n    <tr>\n      <th>87us1</th>\n      <td>[(0, 0), (0, 1), (0, 2), (0, 3), (0, 4), (0, 5...</td>\n      <td>24.619658</td>\n      <td>32</td>\n      <td>11.25</td>\n      <td>90.8</td>\n      <td>0.000000</td>\n      <td>65</td>\n    </tr>\n    <tr>\n      <th>...</th>\n      <td>...</td>\n      <td>...</td>\n      <td>...</td>\n      <td>...</td>\n      <td>...</td>\n      <td>...</td>\n      <td>...</td>\n    </tr>\n    <tr>\n      <th>xx</th>\n      <td>[(0, 0), (0, 1), (0, 2), (0, 3), (0, 4), (0, 5...</td>\n      <td>11.547772</td>\n      <td>13</td>\n      <td>6.75</td>\n      <td>67.2</td>\n      <td>0.000000</td>\n      <td>40</td>\n    </tr>\n    <tr>\n      <th>yama2002</th>\n      <td>[(0, 0), (0, 1), (0, 2), (0, 3), (0, 4), (0, 5...</td>\n      <td>14.739266</td>\n      <td>16</td>\n      <td>9.63</td>\n      <td>100.2</td>\n      <td>0.000000</td>\n      <td>55</td>\n    </tr>\n    <tr>\n      <th>yama7</th>\n      <td>[(0, 0), (0, 1), (0, 2), (1, 2), (2, 2), (3, 2...</td>\n      <td>12.889292</td>\n      <td>14</td>\n      <td>8.55</td>\n      <td>69.2</td>\n      <td>0.000000</td>\n      <td>54</td>\n    </tr>\n    <tr>\n      <th>yama89</th>\n      <td>[(0, 0), (0, 1), (0, 2), (0, 3), (1, 3), (2, 3...</td>\n      <td>11.259959</td>\n      <td>13</td>\n      <td>6.57</td>\n      <td>67.5</td>\n      <td>0.000000</td>\n      <td>40</td>\n    </tr>\n    <tr>\n      <th>zigzag</th>\n      <td>[(0, 0), (0, 1), (1, 1), (1, 0), (2, 0), (2, 1...</td>\n      <td>150.495192</td>\n      <td>232</td>\n      <td>43.11</td>\n      <td>66.7</td>\n      <td>0.000000</td>\n      <td>241</td>\n    </tr>\n  </tbody>\n</table>\n<p>491 rows × 7 columns</p>\n</div>"
     },
     "execution_count": 14,
     "metadata": {},
     "output_type": "execute_result"
    }
   ],
   "source": [
    "bfs_df"
   ]
  },
  {
   "cell_type": "code",
   "execution_count": 15,
   "id": "6292303b883319e7",
   "metadata": {
    "collapsed": false,
    "ExecuteTime": {
     "end_time": "2024-08-20T21:33:02.016277100Z",
     "start_time": "2024-08-20T21:33:02.010740500Z"
    }
   },
   "outputs": [],
   "source": [
    "# bfs = BFS(walls=maze)\n",
    "# bfs_path = bfs.find_shortest_path_to_goal()\n",
    "# print(bfs.get_stats())"
   ]
  },
  {
   "cell_type": "code",
   "execution_count": 16,
   "id": "a0bb4ba2cd9ab7d1",
   "metadata": {
    "collapsed": false,
    "ExecuteTime": {
     "end_time": "2024-08-20T21:33:02.029053700Z",
     "start_time": "2024-08-20T21:33:02.016277100Z"
    }
   },
   "outputs": [],
   "source": [
    "# Utils().draw_maze(walls=maze, path=bfs_path, dist_map = bfs.distances)"
   ]
  },
  {
   "cell_type": "code",
   "execution_count": 17,
   "id": "611cf4b477412708",
   "metadata": {
    "collapsed": false,
    "ExecuteTime": {
     "end_time": "2024-08-20T21:33:02.032073300Z",
     "start_time": "2024-08-20T21:33:02.023950500Z"
    }
   },
   "outputs": [],
   "source": [
    "# stats = Stats()\n",
    "# print(stats.get_time_from_path(bfs_path))"
   ]
  },
  {
   "cell_type": "markdown",
   "id": "6e177e35bc5abb1b",
   "metadata": {
    "collapsed": false
   },
   "source": [
    "### Dijkstra"
   ]
  },
  {
   "cell_type": "code",
   "execution_count": 18,
   "id": "4c1c4a8d",
   "metadata": {
    "ExecuteTime": {
     "end_time": "2024-08-20T21:33:04.433779300Z",
     "start_time": "2024-08-20T21:33:02.032073300Z"
    }
   },
   "outputs": [],
   "source": [
    "stats = Stats()\n",
    "dijkstra_paths = []\n",
    "dijkstra_path_times = []\n",
    "dijkstra_turns = []\n",
    "dijkstra_distances = []\n",
    "dijkstra_cells_travelled = []\n",
    "dijkstra_exec_time = []\n",
    "dijkstra_memory = []\n",
    "for name, item in mazes.items():\n",
    "    start_time = time.perf_counter_ns()\n",
    "    dijkstra = Dijkstra(walls=item)\n",
    "    dijkstra_exec_time.append(get_runtime(start_time) * pow(10, -3))\n",
    "    path = dijkstra.find_shortest_path_to_goal()\n",
    "    dijkstra_paths.append(path)\n",
    "    dijkstra_path_times.append(stats.get_time_from_path(path))\n",
    "    dist, turns = dijkstra.get_stats()\n",
    "    dijkstra_cells_travelled.append(dist)\n",
    "    dijkstra_distances.append(stats.get_dist_travelled())\n",
    "    dijkstra_turns.append(turns)\n",
    "    dijkstra_memory.append(dijkstra.total_memory_used)\n",
    "\n",
    "maze_names = mazes.keys()\n",
    "\n",
    "data = {\n",
    "    'Maze Name': maze_names,\n",
    "    'Path': dijkstra_paths,\n",
    "    'Path Time (s)': dijkstra_path_times,\n",
    "    'Turns': dijkstra_turns,\n",
    "    'Distance Travelled (m)': dijkstra_distances,\n",
    "    'Execution Time (micro secs)': dijkstra_exec_time,\n",
    "    'Memory Usage (MB)': dijkstra_memory,\n",
    "    'Cells Travelled': dijkstra_cells_travelled\n",
    "}\n",
    "\n",
    "dijkstra_df = pd.DataFrame(data).set_index('Maze Name')\n",
    "dijkstra_df.to_csv('results/csv_files/competition/dijkstra.csv')"
   ]
  },
  {
   "cell_type": "code",
   "execution_count": 19,
   "id": "fae9c877",
   "metadata": {
    "ExecuteTime": {
     "end_time": "2024-08-20T21:33:04.783769400Z",
     "start_time": "2024-08-20T21:33:04.433779300Z"
    }
   },
   "outputs": [
    {
     "data": {
      "text/plain": "                                                        Path  Path Time (s)  \\\nMaze Name                                                                     \n13ye       [(0, 0), (0, 1), (0, 2), (0, 3), (0, 4), (0, 5...      19.481086   \n50         [(0, 0), (0, 1), (0, 2), (0, 3), (0, 4), (0, 5...      27.575872   \n86         [(0, 0), (0, 1), (0, 2), (0, 3), (0, 4), (0, 5...       5.598013   \n87sin      [(0, 0), (0, 1), (0, 2), (0, 3), (1, 3), (1, 2...      14.794908   \n87us1      [(0, 0), (0, 1), (0, 2), (0, 3), (0, 4), (0, 5...      24.619658   \n...                                                      ...            ...   \nxx         [(0, 0), (0, 1), (0, 2), (0, 3), (0, 4), (0, 5...      11.547772   \nyama2002   [(0, 0), (0, 1), (0, 2), (0, 3), (0, 4), (0, 5...      14.739266   \nyama7      [(0, 0), (0, 1), (0, 2), (1, 2), (2, 2), (3, 2...      12.889292   \nyama89     [(0, 0), (0, 1), (0, 2), (0, 3), (1, 3), (2, 3...      11.259959   \nzigzag     [(0, 0), (0, 1), (1, 1), (1, 0), (2, 0), (2, 1...     150.495192   \n\n           Turns  Distance Travelled (m)  Execution Time (micro secs)  \\\nMaze Name                                                               \n13ye          24                   11.97                        156.4   \n50            38                   11.25                        132.2   \n86             8                    3.69                        184.6   \n87sin         18                    8.55                         83.7   \n87us1         34                   11.25                         76.4   \n...          ...                     ...                          ...   \nxx            14                    6.75                         89.3   \nyama2002      18                    9.63                         71.9   \nyama7         14                    8.55                         70.4   \nyama89        14                    6.57                         72.5   \nzigzag       234                   43.11                         69.9   \n\n           Memory Usage (MB)  Cells Travelled  \nMaze Name                                      \n13ye                     0.0               68  \n50                       0.0               64  \n86                       0.0               25  \n87sin                    0.0               49  \n87us1                    0.0               65  \n...                      ...              ...  \nxx                       0.0               40  \nyama2002                 0.0               55  \nyama7                    0.0               54  \nyama89                   0.0               40  \nzigzag                   0.0              241  \n\n[491 rows x 7 columns]",
      "text/html": "<div>\n<style scoped>\n    .dataframe tbody tr th:only-of-type {\n        vertical-align: middle;\n    }\n\n    .dataframe tbody tr th {\n        vertical-align: top;\n    }\n\n    .dataframe thead th {\n        text-align: right;\n    }\n</style>\n<table border=\"1\" class=\"dataframe\">\n  <thead>\n    <tr style=\"text-align: right;\">\n      <th></th>\n      <th>Path</th>\n      <th>Path Time (s)</th>\n      <th>Turns</th>\n      <th>Distance Travelled (m)</th>\n      <th>Execution Time (micro secs)</th>\n      <th>Memory Usage (MB)</th>\n      <th>Cells Travelled</th>\n    </tr>\n    <tr>\n      <th>Maze Name</th>\n      <th></th>\n      <th></th>\n      <th></th>\n      <th></th>\n      <th></th>\n      <th></th>\n      <th></th>\n    </tr>\n  </thead>\n  <tbody>\n    <tr>\n      <th>13ye</th>\n      <td>[(0, 0), (0, 1), (0, 2), (0, 3), (0, 4), (0, 5...</td>\n      <td>19.481086</td>\n      <td>24</td>\n      <td>11.97</td>\n      <td>156.4</td>\n      <td>0.0</td>\n      <td>68</td>\n    </tr>\n    <tr>\n      <th>50</th>\n      <td>[(0, 0), (0, 1), (0, 2), (0, 3), (0, 4), (0, 5...</td>\n      <td>27.575872</td>\n      <td>38</td>\n      <td>11.25</td>\n      <td>132.2</td>\n      <td>0.0</td>\n      <td>64</td>\n    </tr>\n    <tr>\n      <th>86</th>\n      <td>[(0, 0), (0, 1), (0, 2), (0, 3), (0, 4), (0, 5...</td>\n      <td>5.598013</td>\n      <td>8</td>\n      <td>3.69</td>\n      <td>184.6</td>\n      <td>0.0</td>\n      <td>25</td>\n    </tr>\n    <tr>\n      <th>87sin</th>\n      <td>[(0, 0), (0, 1), (0, 2), (0, 3), (1, 3), (1, 2...</td>\n      <td>14.794908</td>\n      <td>18</td>\n      <td>8.55</td>\n      <td>83.7</td>\n      <td>0.0</td>\n      <td>49</td>\n    </tr>\n    <tr>\n      <th>87us1</th>\n      <td>[(0, 0), (0, 1), (0, 2), (0, 3), (0, 4), (0, 5...</td>\n      <td>24.619658</td>\n      <td>34</td>\n      <td>11.25</td>\n      <td>76.4</td>\n      <td>0.0</td>\n      <td>65</td>\n    </tr>\n    <tr>\n      <th>...</th>\n      <td>...</td>\n      <td>...</td>\n      <td>...</td>\n      <td>...</td>\n      <td>...</td>\n      <td>...</td>\n      <td>...</td>\n    </tr>\n    <tr>\n      <th>xx</th>\n      <td>[(0, 0), (0, 1), (0, 2), (0, 3), (0, 4), (0, 5...</td>\n      <td>11.547772</td>\n      <td>14</td>\n      <td>6.75</td>\n      <td>89.3</td>\n      <td>0.0</td>\n      <td>40</td>\n    </tr>\n    <tr>\n      <th>yama2002</th>\n      <td>[(0, 0), (0, 1), (0, 2), (0, 3), (0, 4), (0, 5...</td>\n      <td>14.739266</td>\n      <td>18</td>\n      <td>9.63</td>\n      <td>71.9</td>\n      <td>0.0</td>\n      <td>55</td>\n    </tr>\n    <tr>\n      <th>yama7</th>\n      <td>[(0, 0), (0, 1), (0, 2), (1, 2), (2, 2), (3, 2...</td>\n      <td>12.889292</td>\n      <td>14</td>\n      <td>8.55</td>\n      <td>70.4</td>\n      <td>0.0</td>\n      <td>54</td>\n    </tr>\n    <tr>\n      <th>yama89</th>\n      <td>[(0, 0), (0, 1), (0, 2), (0, 3), (1, 3), (2, 3...</td>\n      <td>11.259959</td>\n      <td>14</td>\n      <td>6.57</td>\n      <td>72.5</td>\n      <td>0.0</td>\n      <td>40</td>\n    </tr>\n    <tr>\n      <th>zigzag</th>\n      <td>[(0, 0), (0, 1), (1, 1), (1, 0), (2, 0), (2, 1...</td>\n      <td>150.495192</td>\n      <td>234</td>\n      <td>43.11</td>\n      <td>69.9</td>\n      <td>0.0</td>\n      <td>241</td>\n    </tr>\n  </tbody>\n</table>\n<p>491 rows × 7 columns</p>\n</div>"
     },
     "execution_count": 19,
     "metadata": {},
     "output_type": "execute_result"
    }
   ],
   "source": [
    "dijkstra_df"
   ]
  },
  {
   "cell_type": "code",
   "execution_count": 20,
   "id": "866c78aac3184cbe",
   "metadata": {
    "collapsed": false,
    "ExecuteTime": {
     "end_time": "2024-08-20T21:33:04.784274400Z",
     "start_time": "2024-08-20T21:33:04.779869800Z"
    }
   },
   "outputs": [],
   "source": [
    "# dijkstra = Dijkstra(walls=maze)\n",
    "# dijkstra_path = dijkstra.find_shortest_path_to_goal()\n",
    "# print(dijkstra.get_stats())"
   ]
  },
  {
   "cell_type": "code",
   "execution_count": 21,
   "id": "6a8b43b8cc58a8a3",
   "metadata": {
    "collapsed": false,
    "ExecuteTime": {
     "end_time": "2024-08-20T21:33:04.796353600Z",
     "start_time": "2024-08-20T21:33:04.784274400Z"
    }
   },
   "outputs": [],
   "source": [
    "# Utils().draw_maze(walls=maze, path=dijkstra_path, dist_map = dijkstra.distances)"
   ]
  },
  {
   "cell_type": "code",
   "execution_count": 22,
   "id": "ae09c2783e2a3f33",
   "metadata": {
    "collapsed": false,
    "ExecuteTime": {
     "end_time": "2024-08-20T21:33:04.796353600Z",
     "start_time": "2024-08-20T21:33:04.790757500Z"
    }
   },
   "outputs": [],
   "source": [
    "# print(stats.get_time_from_path(dijkstra_path))"
   ]
  },
  {
   "cell_type": "markdown",
   "id": "2d98e288d7728bab",
   "metadata": {
    "collapsed": false
   },
   "source": [
    "### A*"
   ]
  },
  {
   "cell_type": "code",
   "execution_count": 23,
   "id": "0001a7ec",
   "metadata": {
    "ExecuteTime": {
     "end_time": "2024-08-20T21:33:07.159181800Z",
     "start_time": "2024-08-20T21:33:04.796353600Z"
    }
   },
   "outputs": [],
   "source": [
    "stats = Stats()\n",
    "astar_paths = []\n",
    "astar_path_times = []\n",
    "astar_turns = []\n",
    "astar_distances = []\n",
    "astar_cells_travelled = []\n",
    "astar_exec_time = []\n",
    "astar_memory = []\n",
    "for name, item in mazes.items():\n",
    "    start_time = time.perf_counter_ns()\n",
    "    astar = AStar(walls=item)\n",
    "    astar_exec_time.append(get_runtime(start_time) * pow(10, -3))\n",
    "    path = astar.find_shortest_path_to_goal()\n",
    "    astar_paths.append(path)\n",
    "    astar_path_times.append(stats.get_time_from_path(path))\n",
    "    dist, turns = astar.get_stats()\n",
    "    astar_cells_travelled.append(dist)\n",
    "    astar_distances.append(stats.get_dist_travelled())\n",
    "    astar_turns.append(turns)\n",
    "    astar_memory.append(astar.total_memory_used)\n",
    "\n",
    "maze_names = mazes.keys()\n",
    "\n",
    "data = {\n",
    "    'Maze Name': maze_names,\n",
    "    'Path': astar_paths,\n",
    "    'Path Time (s)': astar_path_times,\n",
    "    'Turns': astar_turns,\n",
    "    'Distance Travelled (m)': astar_distances,\n",
    "    'Execution Time (micro secs)': astar_exec_time,\n",
    "    'Memory Usage (MB)': astar_memory,\n",
    "    'Cells Travelled': astar_cells_travelled\n",
    "}\n",
    "\n",
    "astar_df = pd.DataFrame(data).set_index('Maze Name')\n",
    "astar_df.to_csv('results/csv_files/competition/astar.csv')"
   ]
  },
  {
   "cell_type": "code",
   "execution_count": 24,
   "id": "fef3911c",
   "metadata": {
    "ExecuteTime": {
     "end_time": "2024-08-20T21:33:07.525086800Z",
     "start_time": "2024-08-20T21:33:07.159181800Z"
    }
   },
   "outputs": [
    {
     "data": {
      "text/plain": "                                                        Path  Path Time (s)  \\\nMaze Name                                                                     \n13ye       [(0, 0), (0, 1), (0, 2), (0, 3), (0, 4), (0, 5...      19.481086   \n50         [(0, 0), (0, 1), (0, 2), (0, 3), (0, 4), (0, 5...      27.575872   \n86         [(0, 0), (0, 1), (0, 2), (0, 3), (0, 4), (0, 5...       5.598013   \n87sin      [(0, 0), (0, 1), (0, 2), (0, 3), (1, 3), (1, 2...      14.794908   \n87us1      [(0, 0), (0, 1), (0, 2), (0, 3), (0, 4), (0, 5...      24.619658   \n...                                                      ...            ...   \nxx         [(0, 0), (0, 1), (0, 2), (0, 3), (0, 4), (0, 5...      11.547772   \nyama2002   [(0, 0), (0, 1), (0, 2), (0, 3), (0, 4), (0, 5...      14.739266   \nyama7      [(0, 0), (0, 1), (0, 2), (1, 2), (2, 2), (3, 2...      12.889292   \nyama89     [(0, 0), (0, 1), (0, 2), (0, 3), (1, 3), (2, 3...      11.259959   \nzigzag     [(0, 0), (0, 1), (1, 1), (1, 0), (2, 0), (2, 1...     150.495192   \n\n           Turns  Distance Travelled (m)  Execution Time (micro secs)  \\\nMaze Name                                                               \n13ye          24                   11.97                        114.4   \n50            38                   11.25                        119.6   \n86             8                    3.69                        100.5   \n87sin         18                    8.55                        103.0   \n87us1         34                   11.25                        104.3   \n...          ...                     ...                          ...   \nxx            14                    6.75                         73.2   \nyama2002      18                    9.63                         71.6   \nyama7         14                    8.55                         73.1   \nyama89        14                    6.57                        102.6   \nzigzag       234                   43.11                         71.3   \n\n           Memory Usage (MB)  Cells Travelled  \nMaze Name                                      \n13ye                     0.0               68  \n50                       0.0               64  \n86                       0.0               25  \n87sin                    0.0               49  \n87us1                    0.0               65  \n...                      ...              ...  \nxx                       0.0               40  \nyama2002                 0.0               55  \nyama7                    0.0               54  \nyama89                   0.0               40  \nzigzag                   0.0              241  \n\n[491 rows x 7 columns]",
      "text/html": "<div>\n<style scoped>\n    .dataframe tbody tr th:only-of-type {\n        vertical-align: middle;\n    }\n\n    .dataframe tbody tr th {\n        vertical-align: top;\n    }\n\n    .dataframe thead th {\n        text-align: right;\n    }\n</style>\n<table border=\"1\" class=\"dataframe\">\n  <thead>\n    <tr style=\"text-align: right;\">\n      <th></th>\n      <th>Path</th>\n      <th>Path Time (s)</th>\n      <th>Turns</th>\n      <th>Distance Travelled (m)</th>\n      <th>Execution Time (micro secs)</th>\n      <th>Memory Usage (MB)</th>\n      <th>Cells Travelled</th>\n    </tr>\n    <tr>\n      <th>Maze Name</th>\n      <th></th>\n      <th></th>\n      <th></th>\n      <th></th>\n      <th></th>\n      <th></th>\n      <th></th>\n    </tr>\n  </thead>\n  <tbody>\n    <tr>\n      <th>13ye</th>\n      <td>[(0, 0), (0, 1), (0, 2), (0, 3), (0, 4), (0, 5...</td>\n      <td>19.481086</td>\n      <td>24</td>\n      <td>11.97</td>\n      <td>114.4</td>\n      <td>0.0</td>\n      <td>68</td>\n    </tr>\n    <tr>\n      <th>50</th>\n      <td>[(0, 0), (0, 1), (0, 2), (0, 3), (0, 4), (0, 5...</td>\n      <td>27.575872</td>\n      <td>38</td>\n      <td>11.25</td>\n      <td>119.6</td>\n      <td>0.0</td>\n      <td>64</td>\n    </tr>\n    <tr>\n      <th>86</th>\n      <td>[(0, 0), (0, 1), (0, 2), (0, 3), (0, 4), (0, 5...</td>\n      <td>5.598013</td>\n      <td>8</td>\n      <td>3.69</td>\n      <td>100.5</td>\n      <td>0.0</td>\n      <td>25</td>\n    </tr>\n    <tr>\n      <th>87sin</th>\n      <td>[(0, 0), (0, 1), (0, 2), (0, 3), (1, 3), (1, 2...</td>\n      <td>14.794908</td>\n      <td>18</td>\n      <td>8.55</td>\n      <td>103.0</td>\n      <td>0.0</td>\n      <td>49</td>\n    </tr>\n    <tr>\n      <th>87us1</th>\n      <td>[(0, 0), (0, 1), (0, 2), (0, 3), (0, 4), (0, 5...</td>\n      <td>24.619658</td>\n      <td>34</td>\n      <td>11.25</td>\n      <td>104.3</td>\n      <td>0.0</td>\n      <td>65</td>\n    </tr>\n    <tr>\n      <th>...</th>\n      <td>...</td>\n      <td>...</td>\n      <td>...</td>\n      <td>...</td>\n      <td>...</td>\n      <td>...</td>\n      <td>...</td>\n    </tr>\n    <tr>\n      <th>xx</th>\n      <td>[(0, 0), (0, 1), (0, 2), (0, 3), (0, 4), (0, 5...</td>\n      <td>11.547772</td>\n      <td>14</td>\n      <td>6.75</td>\n      <td>73.2</td>\n      <td>0.0</td>\n      <td>40</td>\n    </tr>\n    <tr>\n      <th>yama2002</th>\n      <td>[(0, 0), (0, 1), (0, 2), (0, 3), (0, 4), (0, 5...</td>\n      <td>14.739266</td>\n      <td>18</td>\n      <td>9.63</td>\n      <td>71.6</td>\n      <td>0.0</td>\n      <td>55</td>\n    </tr>\n    <tr>\n      <th>yama7</th>\n      <td>[(0, 0), (0, 1), (0, 2), (1, 2), (2, 2), (3, 2...</td>\n      <td>12.889292</td>\n      <td>14</td>\n      <td>8.55</td>\n      <td>73.1</td>\n      <td>0.0</td>\n      <td>54</td>\n    </tr>\n    <tr>\n      <th>yama89</th>\n      <td>[(0, 0), (0, 1), (0, 2), (0, 3), (1, 3), (2, 3...</td>\n      <td>11.259959</td>\n      <td>14</td>\n      <td>6.57</td>\n      <td>102.6</td>\n      <td>0.0</td>\n      <td>40</td>\n    </tr>\n    <tr>\n      <th>zigzag</th>\n      <td>[(0, 0), (0, 1), (1, 1), (1, 0), (2, 0), (2, 1...</td>\n      <td>150.495192</td>\n      <td>234</td>\n      <td>43.11</td>\n      <td>71.3</td>\n      <td>0.0</td>\n      <td>241</td>\n    </tr>\n  </tbody>\n</table>\n<p>491 rows × 7 columns</p>\n</div>"
     },
     "execution_count": 24,
     "metadata": {},
     "output_type": "execute_result"
    }
   ],
   "source": [
    "astar_df"
   ]
  },
  {
   "cell_type": "code",
   "execution_count": 25,
   "id": "a0f48ab865dff37d",
   "metadata": {
    "collapsed": false,
    "ExecuteTime": {
     "end_time": "2024-08-20T21:33:07.526764300Z",
     "start_time": "2024-08-20T21:33:07.525086800Z"
    }
   },
   "outputs": [],
   "source": [
    "# astar = AStar(walls=maze)\n",
    "# astar_path = (astar.find_shortest_path_to_goal())\n",
    "# print(astar.get_stats())"
   ]
  },
  {
   "cell_type": "code",
   "execution_count": 26,
   "id": "c6fcf7b959cdc775",
   "metadata": {
    "collapsed": false,
    "ExecuteTime": {
     "end_time": "2024-08-20T21:33:07.541897500Z",
     "start_time": "2024-08-20T21:33:07.526764300Z"
    }
   },
   "outputs": [],
   "source": [
    "# Utils().draw_maze(walls=maze, path=astar_path, dist_map = astar.distances)"
   ]
  },
  {
   "cell_type": "code",
   "execution_count": 27,
   "id": "bc4a955e4da73de3",
   "metadata": {
    "collapsed": false,
    "ExecuteTime": {
     "end_time": "2024-08-20T21:33:07.541897500Z",
     "start_time": "2024-08-20T21:33:07.535951700Z"
    }
   },
   "outputs": [],
   "source": [
    "# stats = Stats()\n",
    "# print(stats.get_time_from_path(astar_path))"
   ]
  },
  {
   "cell_type": "markdown",
   "id": "221993fdaa342fe7",
   "metadata": {
    "collapsed": false
   },
   "source": [
    "## Reinforcememnt Learning"
   ]
  },
  {
   "cell_type": "markdown",
   "id": "40f59841bab2d61c",
   "metadata": {
    "collapsed": false
   },
   "source": [
    "### Sarsa"
   ]
  },
  {
   "cell_type": "code",
   "execution_count": 30,
   "id": "bd3d8a20",
   "metadata": {
    "ExecuteTime": {
     "end_time": "2024-08-20T22:19:44.431774600Z",
     "start_time": "2024-08-20T21:48:28.142575800Z"
    }
   },
   "outputs": [
    {
     "name": "stdout",
     "output_type": "stream",
     "text": [
      "running 13ye\n",
      "running agent 1\n",
      "running agent 2\n",
      "running agent 3\n",
      "running 50\n",
      "running agent 1\n",
      "running agent 2\n",
      "running agent 3\n",
      "running 86\n",
      "running agent 1\n",
      "running agent 2\n",
      "running agent 3\n",
      "running 87sin\n",
      "running agent 1\n",
      "running agent 2\n",
      "running agent 3\n",
      "running 87us1\n",
      "running agent 1\n",
      "running agent 2\n",
      "running agent 3\n",
      "running 88\n",
      "running agent 1\n",
      "running agent 2\n",
      "running agent 3\n",
      "running a\n",
      "running agent 1\n",
      "running agent 2\n",
      "running agent 3\n",
      "running AAMC15Maze\n",
      "running agent 1\n",
      "running agent 2\n",
      "running agent 3\n",
      "running AAMC16Maze\n",
      "running agent 1\n",
      "running agent 2\n",
      "running agent 3\n",
      "running AAMC17Maze\n",
      "running agent 1\n",
      "running agent 2\n",
      "running agent 3\n",
      "running AAMC18Maze\n",
      "running agent 1\n",
      "running agent 2\n",
      "running agent 3\n",
      "running AAMC22Maze\n",
      "running agent 1\n",
      "running agent 2\n",
      "running agent 3\n",
      "running AAMC23Maze\n",
      "running agent 1\n",
      "running agent 2\n",
      "running agent 3\n",
      "running AAMC24Maze\n",
      "running agent 1\n",
      "running agent 2\n",
      "running agent 3\n",
      "running AAMCUCLAMM2018\n",
      "running agent 1\n",
      "running agent 2\n",
      "running agent 3\n",
      "running allamerica2013\n",
      "running agent 1\n",
      "running agent 2\n",
      "running agent 3\n",
      "running alljapan-001-1980\n",
      "running agent 1\n",
      "running agent 2\n",
      "running agent 3\n",
      "running alljapan-002-1981\n",
      "running agent 1\n",
      "running agent 2\n",
      "running agent 3\n",
      "running alljapan-003-1982\n",
      "running agent 1\n",
      "running agent 2\n",
      "running agent 3\n",
      "running alljapan-004-1983\n",
      "running agent 1\n",
      "running agent 2\n",
      "running agent 3\n",
      "running alljapan-005-1984\n",
      "running agent 1\n",
      "running agent 2\n",
      "running agent 3\n",
      "running alljapan-006-1985-fin\n",
      "running agent 1\n",
      "running agent 2\n",
      "running agent 3\n",
      "running alljapan-006-1985-pre\n",
      "running agent 1\n",
      "running agent 2\n",
      "running agent 3\n",
      "running alljapan-007-1986-fin\n",
      "running agent 1\n",
      "running agent 2\n",
      "running agent 3\n",
      "running alljapan-007-1986-pre\n",
      "running agent 1\n",
      "running agent 2\n",
      "running agent 3\n",
      "running alljapan-008-1987-fin\n",
      "running agent 1\n",
      "running agent 2\n",
      "running agent 3\n",
      "running alljapan-008-1987-pre\n",
      "running agent 1\n",
      "running agent 2\n",
      "running agent 3\n",
      "running alljapan-009-1988-fin\n",
      "running agent 1\n",
      "running agent 2\n",
      "running agent 3\n",
      "running alljapan-009-1988-pre\n",
      "running agent 1\n",
      "running agent 2\n",
      "running agent 3\n",
      "running alljapan-010-1989-fin\n",
      "running agent 1\n",
      "running agent 2\n",
      "running agent 3\n",
      "running alljapan-010-1989-pre\n",
      "running agent 1\n",
      "running agent 2\n",
      "running agent 3\n",
      "running alljapan-011-1990-exp-fin\n",
      "running agent 1\n",
      "running agent 2\n",
      "running agent 3\n",
      "running alljapan-011-1990-exp-pre\n",
      "running agent 1\n",
      "running agent 2\n",
      "running agent 3\n",
      "running alljapan-011-1990-frsh\n",
      "running agent 1\n",
      "running agent 2\n",
      "running agent 3\n",
      "running alljapan-012-1991-exp-fin\n",
      "running agent 1\n",
      "running agent 2\n",
      "running agent 3\n",
      "running alljapan-012-1991-frsh\n",
      "running agent 1\n",
      "running agent 2\n",
      "running agent 3\n",
      "running alljapan-013-1992-exp-fin\n",
      "running agent 1\n",
      "running agent 2\n",
      "running agent 3\n",
      "running alljapan-013-1992-exp-pre\n",
      "running agent 1\n",
      "running agent 2\n",
      "running agent 3\n",
      "running alljapan-013-1992-frsh\n",
      "running agent 1\n",
      "running agent 2\n",
      "running agent 3\n",
      "running alljapan-014-1993-exp-fin\n",
      "running agent 1\n",
      "running agent 2\n",
      "running agent 3\n",
      "running alljapan-014-1993-exp-pre\n",
      "running agent 1\n",
      "running agent 2\n",
      "running agent 3\n",
      "running alljapan-014-1993-frsh\n",
      "running agent 1\n",
      "running agent 2\n",
      "running agent 3\n",
      "running alljapan-015-1994-exp-fin\n",
      "running agent 1\n",
      "running agent 2\n",
      "running agent 3\n",
      "running alljapan-015-1994-exp-pre\n",
      "running agent 1\n",
      "running agent 2\n",
      "running agent 3\n",
      "running alljapan-015-1994-frsh\n",
      "running agent 1\n",
      "running agent 2\n"
     ]
    },
    {
     "ename": "KeyboardInterrupt",
     "evalue": "",
     "output_type": "error",
     "traceback": [
      "\u001B[1;31m---------------------------------------------------------------------------\u001B[0m",
      "\u001B[1;31mKeyboardInterrupt\u001B[0m                         Traceback (most recent call last)",
      "Cell \u001B[1;32mIn[30], line 13\u001B[0m\n\u001B[0;32m     11\u001B[0m start_time \u001B[38;5;241m=\u001B[39m time\u001B[38;5;241m.\u001B[39mperf_counter_ns()\n\u001B[0;32m     12\u001B[0m sarsa \u001B[38;5;241m=\u001B[39m Sarsa(walls\u001B[38;5;241m=\u001B[39mitem)\n\u001B[1;32m---> 13\u001B[0m \u001B[43msarsa\u001B[49m\u001B[38;5;241;43m.\u001B[39;49m\u001B[43mrun_sarsa\u001B[49m\u001B[43m(\u001B[49m\u001B[43m)\u001B[49m\n\u001B[0;32m     14\u001B[0m sarsa_exec_time\u001B[38;5;241m.\u001B[39mappend(get_runtime(start_time) \u001B[38;5;241m*\u001B[39m \u001B[38;5;28mpow\u001B[39m(\u001B[38;5;241m10\u001B[39m, \u001B[38;5;241m-\u001B[39m\u001B[38;5;241m3\u001B[39m))\n\u001B[0;32m     15\u001B[0m path \u001B[38;5;241m=\u001B[39m sarsa\u001B[38;5;241m.\u001B[39mget_path()\n",
      "File \u001B[1;32mD:\\Diss\\Simulator\\final\\algorithms\\reinforcement_learning\\sarsa\\Sarsa.py:52\u001B[0m, in \u001B[0;36mSarsa.run_sarsa\u001B[1;34m(self)\u001B[0m\n\u001B[0;32m     50\u001B[0m \u001B[38;5;28mself\u001B[39m\u001B[38;5;241m.\u001B[39mpath\u001B[38;5;241m.\u001B[39mappend(\u001B[38;5;28mself\u001B[39m\u001B[38;5;241m.\u001B[39mstart_position)\n\u001B[0;32m     51\u001B[0m \u001B[38;5;28;01mwhile\u001B[39;00m \u001B[38;5;28mself\u001B[39m\u001B[38;5;241m.\u001B[39mcurr_position \u001B[38;5;129;01mnot\u001B[39;00m \u001B[38;5;129;01min\u001B[39;00m \u001B[38;5;28mself\u001B[39m\u001B[38;5;241m.\u001B[39mgoal_positions:\n\u001B[1;32m---> 52\u001B[0m     \u001B[38;5;28;43mself\u001B[39;49m\u001B[38;5;241;43m.\u001B[39;49m\u001B[43mlearn\u001B[49m\u001B[43m(\u001B[49m\u001B[43m)\u001B[49m\n\u001B[0;32m     53\u001B[0m     steps \u001B[38;5;241m+\u001B[39m\u001B[38;5;241m=\u001B[39m \u001B[38;5;241m1\u001B[39m\n\u001B[0;32m     55\u001B[0m \u001B[38;5;66;03m# print(f'epsiode: {episode}, steps: {steps}')\u001B[39;00m\n",
      "File \u001B[1;32mD:\\Diss\\Simulator\\final\\algorithms\\reinforcement_learning\\sarsa\\Sarsa.py:26\u001B[0m, in \u001B[0;36mSarsa.learn\u001B[1;34m(self)\u001B[0m\n\u001B[0;32m     24\u001B[0m \u001B[38;5;28mself\u001B[39m\u001B[38;5;241m.\u001B[39mmove_update_position(action)\n\u001B[0;32m     25\u001B[0m next_state \u001B[38;5;241m=\u001B[39m \u001B[38;5;28mself\u001B[39m\u001B[38;5;241m.\u001B[39mcurr_position\n\u001B[1;32m---> 26\u001B[0m reward \u001B[38;5;241m=\u001B[39m \u001B[38;5;28;43mself\u001B[39;49m\u001B[38;5;241;43m.\u001B[39;49m\u001B[43mget_reward\u001B[49m\u001B[43m(\u001B[49m\u001B[43mnext_state\u001B[49m\u001B[43m,\u001B[49m\u001B[43m \u001B[49m\u001B[43maction\u001B[49m\u001B[43m,\u001B[49m\u001B[43m \u001B[49m\u001B[43mold_orientation\u001B[49m\u001B[43m,\u001B[49m\u001B[43m \u001B[49m\u001B[43mstate\u001B[49m\u001B[43m)\u001B[49m\n\u001B[0;32m     27\u001B[0m \u001B[38;5;28mself\u001B[39m\u001B[38;5;241m.\u001B[39maccumalated_reward \u001B[38;5;241m+\u001B[39m\u001B[38;5;241m=\u001B[39m reward\n\u001B[0;32m     28\u001B[0m next_action \u001B[38;5;241m=\u001B[39m \u001B[38;5;28mself\u001B[39m\u001B[38;5;241m.\u001B[39mchoose_action(next_state)\n",
      "File \u001B[1;32mD:\\Diss\\Simulator\\final\\algorithms\\reinforcement_learning\\RLSetup.py:156\u001B[0m, in \u001B[0;36mRLSetup.get_reward\u001B[1;34m(self, next_state, action, old_orientation, curr_state, dynaq, fails)\u001B[0m\n\u001B[0;32m    152\u001B[0m     \u001B[38;5;28;01mreturn\u001B[39;00m \u001B[38;5;241m-\u001B[39m\u001B[38;5;241m0.25\u001B[39m\n\u001B[0;32m    153\u001B[0m \u001B[38;5;66;03m# return -self.get_time_taken_for_action(action, old_orientation, curr_state)\u001B[39;00m\n\u001B[0;32m    154\u001B[0m \u001B[38;5;66;03m# return -0.25\u001B[39;00m\n\u001B[1;32m--> 156\u001B[0m \u001B[38;5;28;43mself\u001B[39;49m\u001B[38;5;241;43m.\u001B[39;49m\u001B[43mget_time_taken_for_action\u001B[49m\u001B[43m(\u001B[49m\u001B[43maction\u001B[49m\u001B[43m,\u001B[49m\u001B[43m \u001B[49m\u001B[43mold_orientation\u001B[49m\u001B[43m,\u001B[49m\u001B[43m \u001B[49m\u001B[43mcurr_state\u001B[49m\u001B[43m)\u001B[49m\n\u001B[0;32m    157\u001B[0m reward \u001B[38;5;241m=\u001B[39m \u001B[38;5;28mself\u001B[39m\u001B[38;5;241m.\u001B[39mreward_multiple \u001B[38;5;241m*\u001B[39m \u001B[38;5;28mself\u001B[39m\u001B[38;5;241m.\u001B[39mtot_t\n\u001B[0;32m    158\u001B[0m \u001B[38;5;28mself\u001B[39m\u001B[38;5;241m.\u001B[39mreward_multiple \u001B[38;5;241m=\u001B[39m \u001B[38;5;28mmax\u001B[39m(\u001B[38;5;28mself\u001B[39m\u001B[38;5;241m.\u001B[39mreward_discount\u001B[38;5;241m*\u001B[39m \u001B[38;5;28mself\u001B[39m\u001B[38;5;241m.\u001B[39mreward_multiple, \u001B[38;5;28mself\u001B[39m\u001B[38;5;241m.\u001B[39mmin_reward_multiple)\n",
      "File \u001B[1;32mD:\\Diss\\Simulator\\final\\algorithms\\reinforcement_learning\\RLSetup.py:83\u001B[0m, in \u001B[0;36mRLSetup.get_time_taken_for_action\u001B[1;34m(self, action, old_orientation, curr_state)\u001B[0m\n\u001B[0;32m     81\u001B[0m t_stop \u001B[38;5;241m=\u001B[39m \u001B[38;5;28mself\u001B[39m\u001B[38;5;241m.\u001B[39mget_stop_time()\n\u001B[0;32m     82\u001B[0m t_turn \u001B[38;5;241m=\u001B[39m \u001B[38;5;28mself\u001B[39m\u001B[38;5;241m.\u001B[39mget_turn_time(action, old_orientation)\n\u001B[1;32m---> 83\u001B[0m t_acc \u001B[38;5;241m=\u001B[39m \u001B[38;5;28;43mself\u001B[39;49m\u001B[38;5;241;43m.\u001B[39;49m\u001B[43mget_acceleration_time\u001B[49m\u001B[43m(\u001B[49m\u001B[38;5;28;43mself\u001B[39;49m\u001B[38;5;241;43m.\u001B[39;49m\u001B[43ms_stop\u001B[49m\u001B[43m)\u001B[49m\n\u001B[0;32m     84\u001B[0m t \u001B[38;5;241m=\u001B[39m t_stop \u001B[38;5;241m+\u001B[39m t_turn \u001B[38;5;241m+\u001B[39m t_acc\n\u001B[0;32m     85\u001B[0m \u001B[38;5;28mself\u001B[39m\u001B[38;5;241m.\u001B[39mu \u001B[38;5;241m=\u001B[39m \u001B[38;5;28mmin\u001B[39m(\u001B[38;5;28mself\u001B[39m\u001B[38;5;241m.\u001B[39mu \u001B[38;5;241m+\u001B[39m \u001B[38;5;28mself\u001B[39m\u001B[38;5;241m.\u001B[39ma \u001B[38;5;241m*\u001B[39m t_acc, \u001B[38;5;28mself\u001B[39m\u001B[38;5;241m.\u001B[39mv_max)\n",
      "File \u001B[1;32mD:\\Diss\\Simulator\\final\\algorithms\\reinforcement_learning\\RLSetup.py:53\u001B[0m, in \u001B[0;36mRLSetup.get_acceleration_time\u001B[1;34m(self, s)\u001B[0m\n\u001B[0;32m     51\u001B[0m \u001B[38;5;28;01mdef\u001B[39;00m \u001B[38;5;21mget_acceleration_time\u001B[39m(\u001B[38;5;28mself\u001B[39m, s):\n\u001B[0;32m     52\u001B[0m     ceof \u001B[38;5;241m=\u001B[39m [\u001B[38;5;241m0.5\u001B[39m\u001B[38;5;241m*\u001B[39m\u001B[38;5;28mself\u001B[39m\u001B[38;5;241m.\u001B[39ma, \u001B[38;5;28mself\u001B[39m\u001B[38;5;241m.\u001B[39mu, \u001B[38;5;241m-\u001B[39ms]\n\u001B[1;32m---> 53\u001B[0m     roots \u001B[38;5;241m=\u001B[39m \u001B[43mnp\u001B[49m\u001B[38;5;241;43m.\u001B[39;49m\u001B[43mroots\u001B[49m\u001B[43m(\u001B[49m\u001B[43mceof\u001B[49m\u001B[43m)\u001B[49m\n\u001B[0;32m     54\u001B[0m     t \u001B[38;5;241m=\u001B[39m roots[roots \u001B[38;5;241m>\u001B[39m \u001B[38;5;241m0\u001B[39m][\u001B[38;5;241m0\u001B[39m]\n\u001B[0;32m     55\u001B[0m     \u001B[38;5;28;01mreturn\u001B[39;00m t\n",
      "File \u001B[1;32m~\\PycharmProjects\\pythonProject\\venv\\Lib\\site-packages\\numpy\\lib\\polynomial.py:255\u001B[0m, in \u001B[0;36mroots\u001B[1;34m(p)\u001B[0m\n\u001B[0;32m    253\u001B[0m     A \u001B[38;5;241m=\u001B[39m diag(NX\u001B[38;5;241m.\u001B[39mones((N\u001B[38;5;241m-\u001B[39m\u001B[38;5;241m2\u001B[39m,), p\u001B[38;5;241m.\u001B[39mdtype), \u001B[38;5;241m-\u001B[39m\u001B[38;5;241m1\u001B[39m)\n\u001B[0;32m    254\u001B[0m     A[\u001B[38;5;241m0\u001B[39m,:] \u001B[38;5;241m=\u001B[39m \u001B[38;5;241m-\u001B[39mp[\u001B[38;5;241m1\u001B[39m:] \u001B[38;5;241m/\u001B[39m p[\u001B[38;5;241m0\u001B[39m]\n\u001B[1;32m--> 255\u001B[0m     roots \u001B[38;5;241m=\u001B[39m \u001B[43meigvals\u001B[49m\u001B[43m(\u001B[49m\u001B[43mA\u001B[49m\u001B[43m)\u001B[49m\n\u001B[0;32m    256\u001B[0m \u001B[38;5;28;01melse\u001B[39;00m:\n\u001B[0;32m    257\u001B[0m     roots \u001B[38;5;241m=\u001B[39m NX\u001B[38;5;241m.\u001B[39marray([])\n",
      "File \u001B[1;32m~\\PycharmProjects\\pythonProject\\venv\\Lib\\site-packages\\numpy\\linalg\\linalg.py:488\u001B[0m, in \u001B[0;36m_unary_dispatcher\u001B[1;34m(a)\u001B[0m\n\u001B[0;32m    483\u001B[0m     \u001B[38;5;28;01mreturn\u001B[39;00m ia\u001B[38;5;241m.\u001B[39mreshape(\u001B[38;5;241m*\u001B[39minvshape)\n\u001B[0;32m    486\u001B[0m \u001B[38;5;66;03m# Matrix inversion\u001B[39;00m\n\u001B[1;32m--> 488\u001B[0m \u001B[38;5;28;01mdef\u001B[39;00m \u001B[38;5;21m_unary_dispatcher\u001B[39m(a):\n\u001B[0;32m    489\u001B[0m     \u001B[38;5;28;01mreturn\u001B[39;00m (a,)\n\u001B[0;32m    492\u001B[0m \u001B[38;5;129m@array_function_dispatch\u001B[39m(_unary_dispatcher)\n\u001B[0;32m    493\u001B[0m \u001B[38;5;28;01mdef\u001B[39;00m \u001B[38;5;21minv\u001B[39m(a):\n",
      "\u001B[1;31mKeyboardInterrupt\u001B[0m: "
     ]
    }
   ],
   "source": [
    "stats = Stats()\n",
    "sarsa_paths = []\n",
    "sarsa_path_times = []\n",
    "sarsa_turns = []\n",
    "sarsa_distances = []\n",
    "sarsa_cells_travelled = []\n",
    "sarsa_exec_time = []\n",
    "sarsa_memory = []\n",
    "for name, item in mazes.items():\n",
    "    print(f'running {name}')\n",
    "    start_time = time.perf_counter_ns()\n",
    "    sarsa = Sarsa(walls=item)\n",
    "    sarsa.run_sarsa()\n",
    "    sarsa_exec_time.append(get_runtime(start_time) * pow(10, -3))\n",
    "    path = sarsa.get_path()\n",
    "    sarsa_paths.append(path)\n",
    "    sarsa_path_times.append(stats.get_time_from_path(path))\n",
    "    dist, turns = sarsa.get_stats()\n",
    "    sarsa_cells_travelled.append(dist)\n",
    "    sarsa_distances.append(stats.get_dist_travelled())\n",
    "    sarsa_turns.append(turns)\n",
    "    sarsa_memory.append(sarsa.total_memory_used)\n",
    "\n",
    "maze_names = mazes.keys()\n",
    "\n",
    "data = {\n",
    "    'Maze Name': maze_names,\n",
    "    'Path': sarsa_paths,\n",
    "    'Path Time (s)': sarsa_path_times,\n",
    "    'Turns': sarsa_turns,\n",
    "    'Distance Travelled (m)': sarsa_distances,\n",
    "    'Execution Time (micro secs)': sarsa_exec_time,\n",
    "    'Memory Usage (MB)': sarsa_memory,\n",
    "    'Cells Travelled': sarsa_cells_travelled\n",
    "}\n",
    "\n",
    "sarsa_df = pd.DataFrame(data).set_index('Maze Name')\n",
    "sarsa_df.to_csv('results/csv_files/competition/sarsa_using_time.csv')"
   ]
  },
  {
   "cell_type": "code",
   "execution_count": null,
   "id": "b85522d44ef42d83",
   "metadata": {
    "collapsed": false,
    "ExecuteTime": {
     "start_time": "2024-08-20T21:44:01.017814900Z"
    }
   },
   "outputs": [],
   "source": [
    "sarsa = Sarsa(walls=maze)"
   ]
  },
  {
   "cell_type": "code",
   "execution_count": null,
   "id": "5f0221dddf5698b1",
   "metadata": {
    "collapsed": false,
    "ExecuteTime": {
     "end_time": "2024-08-20T21:44:01.017814900Z",
     "start_time": "2024-08-20T21:44:01.017814900Z"
    }
   },
   "outputs": [],
   "source": [
    "sarsa.run_sarsa()\n",
    "sarsa_path = sarsa.get_path()"
   ]
  },
  {
   "cell_type": "code",
   "execution_count": null,
   "id": "11bf71d2a8bccf1f",
   "metadata": {
    "collapsed": false,
    "ExecuteTime": {
     "start_time": "2024-08-20T21:44:01.017814900Z"
    }
   },
   "outputs": [],
   "source": [
    "Utils.draw_maze(walls=maze, dist_map=sarsa.get_max_q_values(), path=sarsa_path)"
   ]
  },
  {
   "cell_type": "code",
   "execution_count": null,
   "id": "f280b95fba081645",
   "metadata": {
    "collapsed": false,
    "ExecuteTime": {
     "start_time": "2024-08-20T21:44:01.017814900Z"
    }
   },
   "outputs": [],
   "source": [
    "# stats = Stats()\n",
    "# stats.get_time_from_path(sarsa_path)"
   ]
  },
  {
   "cell_type": "markdown",
   "id": "619b90d93c1e1e09",
   "metadata": {
    "collapsed": false
   },
   "source": [
    "### QLearning\n"
   ]
  },
  {
   "cell_type": "code",
   "execution_count": null,
   "id": "8f9df13a",
   "metadata": {
    "ExecuteTime": {
     "start_time": "2024-08-20T21:44:01.017814900Z"
    }
   },
   "outputs": [],
   "source": [
    "stats = Stats()\n",
    "qlearning_paths = []\n",
    "qlearning_path_times = []\n",
    "qlearning_turns = []\n",
    "qlearning_distances = []\n",
    "qlearning_cells_travelled = []\n",
    "qlearning_exec_time = []\n",
    "qlearning_memory = []\n",
    "for name, item in mazes.items():\n",
    "    print(f'running {name}')\n",
    "    start_time = time.perf_counter_ns()\n",
    "    qlearning = QLearning(walls=item)\n",
    "    qlearning.run_qlearning()\n",
    "    qlearning_exec_time.append(get_runtime(start_time) * pow(10, -3))\n",
    "    path = qlearning.get_path()\n",
    "    qlearning_paths.append(path)\n",
    "    qlearning_path_times.append(stats.get_time_from_path(path))\n",
    "    dist, turns = qlearning.get_stats()\n",
    "    qlearning_cells_travelled.append(dist)\n",
    "    qlearning_distances.append(stats.get_dist_travelled())\n",
    "    qlearning_turns.append(turns)\n",
    "    qlearning_memory.append(qlearning.total_memory_used)\n",
    "\n",
    "maze_names = mazes.keys()\n",
    "\n",
    "data = {\n",
    "    'Maze Name': maze_names,\n",
    "    'Path': qlearning_paths,\n",
    "    'Path Time (s)': qlearning_path_times,\n",
    "    'Turns': qlearning_turns,\n",
    "    'Distance Travelled (m)': qlearning_distances,\n",
    "    'Execution Time (micro secs)': qlearning_exec_time,\n",
    "    'Memory Usage (MB)': qlearning_memory,\n",
    "    'Cells Travelled': qlearning_cells_travelled\n",
    "}\n",
    "\n",
    "qlearning_df = pd.DataFrame(data).set_index('Maze Name')\n",
    "qlearning_df.to_csv('results/csv_files/competition/qlearning_using_timw.csv')"
   ]
  },
  {
   "cell_type": "code",
   "execution_count": null,
   "id": "d9cd717efe7bd646",
   "metadata": {
    "collapsed": false,
    "ExecuteTime": {
     "start_time": "2024-08-20T21:44:01.033449200Z"
    }
   },
   "outputs": [],
   "source": [
    "# qlearning = QLearning(walls=maze)\n",
    "# qlearning.run_qlearning()\n",
    "# qlearning_path = qlearning.get_path()"
   ]
  },
  {
   "cell_type": "code",
   "execution_count": null,
   "id": "d112734d14c6fa73",
   "metadata": {
    "collapsed": false,
    "ExecuteTime": {
     "end_time": "2024-08-20T21:44:01.065106300Z",
     "start_time": "2024-08-20T21:44:01.039458500Z"
    }
   },
   "outputs": [],
   "source": [
    "# Utils.draw_maze(walls=maze, dist_map=qlearning.get_max_q_values(), path=qlearning_path)\n"
   ]
  },
  {
   "cell_type": "code",
   "execution_count": null,
   "id": "6351353e6100a3d6",
   "metadata": {
    "collapsed": false,
    "ExecuteTime": {
     "start_time": "2024-08-20T21:44:01.039458500Z"
    }
   },
   "outputs": [],
   "source": [
    "# stats = Stats()\n",
    "# stats.get_time_from_path(qlearning_path)"
   ]
  },
  {
   "cell_type": "markdown",
   "id": "ac2ec3ca98a8f619",
   "metadata": {
    "collapsed": false
   },
   "source": [
    "### DynaQ QLearning"
   ]
  },
  {
   "cell_type": "code",
   "execution_count": null,
   "outputs": [],
   "source": [
    "# from algorithms.reinforcement_learning.dynaq.DynaQLearning import DynaQLearning, Utils\n",
    "# maze = Utils.load_maze('mazes/competition_json/alljapan-006-1985-pre.json')\n",
    "# dyna_qlearning = DynaQLearning(walls=maze)\n",
    "# dyna_qlearning.run_dyna_qlearning()\n",
    "# # print(dyna_qlearning.unfeasable_paths)\n",
    "# Utils.draw_maze(maze, unfeasable=dyna_qlearning.unfeasable_paths, path=dyna_qlearning.get_path())\n",
    "# print(dyna_qlearning.max_episodes)"
   ],
   "metadata": {
    "collapsed": false,
    "ExecuteTime": {
     "start_time": "2024-08-20T21:44:01.039458500Z"
    }
   },
   "id": "5c94a09ddbb097da"
  },
  {
   "cell_type": "code",
   "execution_count": null,
   "id": "74ee1168",
   "metadata": {
    "ExecuteTime": {
     "start_time": "2024-08-20T21:44:01.049469100Z"
    }
   },
   "outputs": [],
   "source": [
    "from algorithms.reinforcement_learning.dynaq.DynaQLearning import DynaQLearning, Utils\n",
    "from algorithms.utilities.Stats import Stats\n",
    "stats = Stats()\n",
    "dyna_qlearning_paths = []\n",
    "dyna_qlearning_path_times = []\n",
    "dyna_qlearning_turns = []\n",
    "dyna_qlearning_distances = []\n",
    "dyna_qlearning_cells_travelled = []\n",
    "dyna_qlearning_exec_time = []\n",
    "dyna_qlearning_memory = []\n",
    "for name, item in mazes.items():\n",
    "    print(f'\\nrunning {name}')\n",
    "    start_time = time.perf_counter_ns()\n",
    "    dyna_qlearning = DynaQLearning(walls=item)\n",
    "    dyna_qlearning.run_dyna_qlearning()\n",
    "    dyna_qlearning_exec_time.append(get_runtime(start_time) * pow(10, -3))\n",
    "    path = dyna_qlearning.get_path()\n",
    "    dyna_qlearning_paths.append(path)\n",
    "    dyna_qlearning_path_times.append(stats.get_time_from_path(path))\n",
    "    dist, turns = dyna_qlearning.get_stats()\n",
    "    dyna_qlearning_cells_travelled.append(dist)\n",
    "    dyna_qlearning_distances.append(stats.get_dist_travelled())\n",
    "    dyna_qlearning_turns.append(turns)\n",
    "    dyna_qlearning_memory.append(dyna_qlearning.total_memory_used)\n",
    "\n",
    "maze_names = mazes.keys()\n",
    "\n",
    "data = {\n",
    "    'Maze Name': maze_names,\n",
    "    'Path': dyna_qlearning_paths,\n",
    "    'Path Time (s)': dyna_qlearning_path_times,\n",
    "    'Turns': dyna_qlearning_turns,\n",
    "    'Distance Travelled (m)': dyna_qlearning_distances,\n",
    "    'Execution Time (micro secs)': dyna_qlearning_exec_time,\n",
    "    'Memory Usage (MB)': dyna_qlearning_memory,\n",
    "    'Cells Travelled': dyna_qlearning_cells_travelled,\n",
    "}\n",
    "\n",
    "dyna_qlearning_df = pd.DataFrame(data).set_index('Maze Name')\n",
    "dyna_qlearning_df.to_csv('results/csv_files/competition/dyna_qlearning_using_time.csv')"
   ]
  },
  {
   "cell_type": "code",
   "execution_count": null,
   "outputs": [],
   "source": [
    "# maze_names = mazes.keys()\n",
    "# \n",
    "# data = {\n",
    "#     'Maze Name': maze_names,\n",
    "#     'Path': dyna_qlearning_paths,\n",
    "#     'Path Time (s)': dyna_qlearning_path_times,\n",
    "#     'Turns': dyna_qlearning_turns,\n",
    "#     'Distance Travelled (m)': dyna_qlearning_distances,\n",
    "#     'Execution Time (micro secs)': dyna_qlearning_exec_time,\n",
    "#     'Memory Usage (MB)': dyna_qlearning_memory,\n",
    "#     'Cells Travelled': dyna_qlearning_cells_travelled,\n",
    "# }\n",
    "# \n",
    "# dyna_qlearning_df = pd.DataFrame(data).set_index('Maze Name')"
   ],
   "metadata": {
    "collapsed": false,
    "ExecuteTime": {
     "start_time": "2024-08-20T21:44:01.049469100Z"
    }
   },
   "id": "a39ef4a23f44183"
  },
  {
   "cell_type": "code",
   "execution_count": null,
   "outputs": [],
   "source": [],
   "metadata": {
    "collapsed": false,
    "ExecuteTime": {
     "start_time": "2024-08-20T21:44:01.049469100Z"
    }
   },
   "id": "f76e7847b45360a1"
  },
  {
   "cell_type": "code",
   "execution_count": null,
   "outputs": [],
   "source": [
    "# faield = dyna_qlearning_df[dyna_qlearning_df['Failed To Use Equations of Motion'] == True]"
   ],
   "metadata": {
    "collapsed": false,
    "ExecuteTime": {
     "start_time": "2024-08-20T21:44:01.049469100Z"
    }
   },
   "id": "40f1950837c6c63e"
  },
  {
   "cell_type": "code",
   "execution_count": null,
   "outputs": [],
   "source": [
    "# faield"
   ],
   "metadata": {
    "collapsed": false,
    "ExecuteTime": {
     "start_time": "2024-08-20T21:44:01.065106300Z"
    }
   },
   "id": "1282c7365382348"
  },
  {
   "cell_type": "code",
   "execution_count": null,
   "id": "698249668a1aeade",
   "metadata": {
    "collapsed": false,
    "ExecuteTime": {
     "start_time": "2024-08-20T21:44:01.065106300Z"
    }
   },
   "outputs": [],
   "source": [
    "# dyna_qlearning = DynaQLearning(walls=maze)\n",
    "# dyna_qlearning.run_dyna_qlearning()\n",
    "# dyna_qlearning_path = dyna_qlearning.get_path()"
   ]
  },
  {
   "cell_type": "code",
   "execution_count": null,
   "id": "1dfa1ba31d2716d1",
   "metadata": {
    "collapsed": false,
    "ExecuteTime": {
     "end_time": "2024-08-20T21:44:01.065106300Z",
     "start_time": "2024-08-20T21:44:01.065106300Z"
    }
   },
   "outputs": [],
   "source": [
    "# Utils.draw_maze(walls=maze, dist_map=dyna_qlearning.get_max_q_values(), path=dyna_qlearning_path)"
   ]
  },
  {
   "cell_type": "code",
   "execution_count": null,
   "id": "8c5d5f9e97b17376",
   "metadata": {
    "collapsed": false,
    "ExecuteTime": {
     "start_time": "2024-08-20T21:44:01.065106300Z"
    }
   },
   "outputs": [],
   "source": [
    "# stats = Stats()\n",
    "# stats.get_time_from_path(dyna_qlearning_path)"
   ]
  },
  {
   "cell_type": "code",
   "execution_count": null,
   "outputs": [],
   "source": [
    "# from algorithms.reinforcement_learning.dynaq.DynaQLearning import DynaQLearning, Utils\n",
    "# from algorithms.utilities.Stats import Stats\n",
    "# stats = Stats()\n",
    "# dyna_qlearning_paths_2 = []\n",
    "# dyna_qlearning_path_times_2 = []\n",
    "# dyna_qlearning_turns_2 = []\n",
    "# dyna_qlearning_distances_2 = []\n",
    "# dyna_qlearning_cells_travelled_2 = []\n",
    "# dyna_qlearning_exec_time_2 = []\n",
    "# dyna_qlearning_memory_2 = []\n",
    "# dyna_qlearning_failed_2 = []\n",
    "# for name, item in mazes.items():\n",
    "#     print(f'\\nrunning {name}')\n",
    "#     start_time = time.perf_counter_ns()\n",
    "#     dyna_qlearning = DynaQLearning(walls=item)\n",
    "#     dyna_qlearning.run_dyna_qlearning()\n",
    "#     dyna_qlearning_exec_time_2.append(get_runtime(start_time) * pow(10, -3))\n",
    "#     path = dyna_qlearning.get_path()\n",
    "#     dyna_qlearning_paths_2.append(path)\n",
    "#     dyna_qlearning_path_times_2.append(stats.get_time_from_path(path))\n",
    "#     dist, turns = dyna_qlearning.get_stats()\n",
    "#     dyna_qlearning_cells_travelled_2.append(dist)\n",
    "#     dyna_qlearning_distances_2.append(stats.get_dist_travelled())\n",
    "#     dyna_qlearning_turns_2.append(turns)\n",
    "#     dyna_qlearning_memory_2.append(dyna_qlearning.total_memory_used)\n",
    "#     dyna_qlearning_failed_2.append(dyna_qlearning.fails)\n",
    "# \n",
    "# maze_names = mazes.keys()\n",
    "# \n",
    "# data = {\n",
    "#     'Maze Name': maze_names,\n",
    "#     'Path': dyna_qlearning_paths_2,\n",
    "#     'Path Time (s)': dyna_qlearning_path_times_2,\n",
    "#     'Turns': dyna_qlearning_turns_2,\n",
    "#     'Distance Travelled (m)': dyna_qlearning_distances_2,\n",
    "#     'Execution Time (micro secs)': dyna_qlearning_exec_time_2,\n",
    "#     'Memory Usage (MB)': dyna_qlearning_memory_2,\n",
    "#     'Cells Travelled': dyna_qlearning_cells_travelled_2,\n",
    "#     'Failed To Use Equations of Motion': dyna_qlearning_failed_2\n",
    "# }\n",
    "# \n",
    "# dyna_qlearning_df_2 = pd.DataFrame(data).set_index('Maze Name')\n",
    "# dyna_qlearning_df_2.to_csv('results/csv_files/competition/dyna_qlearning_2.csv')"
   ],
   "metadata": {
    "collapsed": false,
    "ExecuteTime": {
     "end_time": "2024-08-20T21:44:01.159264500Z",
     "start_time": "2024-08-20T21:44:01.065106300Z"
    }
   },
   "id": "ad6a578f17505d50"
  },
  {
   "cell_type": "code",
   "execution_count": null,
   "outputs": [],
   "source": [
    "# dyna_qlearning_df_2 = pd.DataFrame(data).set_index('Maze Name')\n",
    "# dyna_qlearning_df_2.to_csv('results/csv_files/competition/dyna_qlearning_2.csv')"
   ],
   "metadata": {
    "collapsed": false,
    "ExecuteTime": {
     "start_time": "2024-08-20T21:44:01.065106300Z"
    }
   },
   "id": "260c743580022cf7"
  },
  {
   "cell_type": "code",
   "execution_count": null,
   "outputs": [],
   "source": [
    "# dyna_qlearning_df_2"
   ],
   "metadata": {
    "collapsed": false,
    "ExecuteTime": {
     "start_time": "2024-08-20T21:44:01.065106300Z"
    }
   },
   "id": "c0a054a1ce84128b"
  },
  {
   "cell_type": "code",
   "execution_count": null,
   "outputs": [],
   "source": [
    "# failed_2 = dyna_qlearning_df_2[dyna_qlearning_df_2['Failed To Use Equations of Motion'] == True]"
   ],
   "metadata": {
    "collapsed": false,
    "ExecuteTime": {
     "start_time": "2024-08-20T21:44:01.080729100Z"
    }
   },
   "id": "dc4ebe7f34ad2069"
  },
  {
   "cell_type": "code",
   "execution_count": null,
   "outputs": [],
   "source": [
    "# failed_2\n"
   ],
   "metadata": {
    "collapsed": false,
    "ExecuteTime": {
     "start_time": "2024-08-20T21:44:01.080729100Z"
    }
   },
   "id": "6b9616caaef7bc1"
  },
  {
   "cell_type": "code",
   "execution_count": null,
   "outputs": [],
   "source": [
    "# failed_2.index\n"
   ],
   "metadata": {
    "collapsed": false,
    "ExecuteTime": {
     "start_time": "2024-08-20T21:44:01.080729100Z"
    }
   },
   "id": "399ddd597c3f8f54"
  },
  {
   "cell_type": "code",
   "execution_count": null,
   "outputs": [],
   "source": [],
   "metadata": {
    "collapsed": false,
    "ExecuteTime": {
     "start_time": "2024-08-20T21:44:01.080729100Z"
    }
   },
   "id": "66ffdf28f66fd354"
  },
  {
   "cell_type": "markdown",
   "id": "f038e327594176a8",
   "metadata": {
    "collapsed": false
   },
   "source": [
    "### DynaQ Sarsa\n"
   ]
  },
  {
   "cell_type": "code",
   "execution_count": null,
   "id": "43bf1d38",
   "metadata": {
    "ExecuteTime": {
     "start_time": "2024-08-20T21:44:01.080729100Z"
    }
   },
   "outputs": [],
   "source": [
    "stats = Stats()\n",
    "dynaq_sarsa_paths = []\n",
    "dynaq_sarsa_path_times = []\n",
    "dynaq_sarsa_turns = []\n",
    "dynaq_sarsa_distances = []\n",
    "dynaq_sarsa_cells_travelled = []\n",
    "dynaq_sarsa_exec_time = []\n",
    "dynaq_sarsa_memory = []\n",
    "for name, item in mazes.items():\n",
    "    print(f'running {name}')\n",
    "    start_time = time.perf_counter_ns()\n",
    "    dynaq_sarsa = DynaQSarsa(walls=item)\n",
    "    dynaq_sarsa.run_dynaq_sarsa()\n",
    "    dynaq_sarsa_exec_time.append(get_runtime(start_time) * pow(10, -3))\n",
    "    path = dynaq_sarsa.get_path()\n",
    "    dynaq_sarsa_paths.append(path)\n",
    "    dynaq_sarsa_path_times.append(stats.get_time_from_path(path))\n",
    "    dist, turns = dynaq_sarsa.get_stats()\n",
    "    dynaq_sarsa_cells_travelled.append(dist)\n",
    "    dynaq_sarsa_distances.append(stats.get_dist_travelled())\n",
    "    dynaq_sarsa_turns.append(turns)\n",
    "    dynaq_sarsa_memory.append(dynaq_sarsa.total_memory_used)\n",
    "\n",
    "maze_names = mazes.keys()\n",
    "\n",
    "data = {\n",
    "    'Maze Name': maze_names,\n",
    "    'Path': dynaq_sarsa_paths,\n",
    "    'Path Time (s)': dynaq_sarsa_path_times,\n",
    "    'Turns': dynaq_sarsa_turns,\n",
    "    'Distance Travelled (m)': dynaq_sarsa_distances,\n",
    "    'Execution Time (micro secs)': dynaq_sarsa_exec_time,\n",
    "    'Memory Usage (MB)': dynaq_sarsa_memory,\n",
    "    'Cells Travelled': dynaq_sarsa_cells_travelled\n",
    "}\n",
    "\n",
    "dynaq_sarsa_df = pd.DataFrame(data).set_index('Maze Name')\n",
    "dynaq_sarsa_df.to_csv('results/csv_files/competition/dynaq_sarsa_using_time.csv')"
   ]
  },
  {
   "cell_type": "code",
   "execution_count": null,
   "id": "42a865b1e564aa70",
   "metadata": {
    "collapsed": false,
    "ExecuteTime": {
     "start_time": "2024-08-20T21:44:01.080729100Z"
    }
   },
   "outputs": [],
   "source": [
    "dynaq_sarsa = DynaQSarsa(walls=maze)\n",
    "dynaq_sarsa.run_dyna_sarsa()\n",
    "dynaq_sarsa_path = dynaq_sarsa.get_path()"
   ]
  },
  {
   "cell_type": "code",
   "execution_count": null,
   "id": "bdbb9c740851dc1a",
   "metadata": {
    "collapsed": false,
    "ExecuteTime": {
     "start_time": "2024-08-20T21:44:01.080729100Z"
    }
   },
   "outputs": [],
   "source": [
    "Utils.draw_maze(walls=maze, dist_map=dynaq_sarsa.get_max_q_values(), path=dynaq_sarsa_path)"
   ]
  },
  {
   "cell_type": "code",
   "execution_count": null,
   "id": "b51717a74ab1bb78",
   "metadata": {
    "collapsed": false,
    "ExecuteTime": {
     "start_time": "2024-08-20T21:44:01.080729100Z"
    }
   },
   "outputs": [],
   "source": [
    "stats = Stats()\n",
    "stats.get_time_from_path(dynaq_sarsa_path)"
   ]
  },
  {
   "cell_type": "code",
   "execution_count": null,
   "id": "c249b7232f4821a5",
   "metadata": {
    "collapsed": false,
    "ExecuteTime": {
     "start_time": "2024-08-20T21:44:01.080729100Z"
    }
   },
   "outputs": [],
   "source": [
    "# Max deceleration on micro-mouse when calculating reward\n",
    "1/(2*0.09)"
   ]
  },
  {
   "cell_type": "code",
   "execution_count": null,
   "id": "2b1eff4a584013b0",
   "metadata": {
    "collapsed": false,
    "ExecuteTime": {
     "start_time": "2024-08-20T21:44:01.096356600Z"
    }
   },
   "outputs": [],
   "source": []
  },
  {
   "cell_type": "code",
   "execution_count": null,
   "id": "a6fd4769d0523ac9",
   "metadata": {
    "collapsed": false,
    "ExecuteTime": {
     "start_time": "2024-08-20T21:44:01.096356600Z"
    }
   },
   "outputs": [],
   "source": []
  },
  {
   "cell_type": "code",
   "execution_count": null,
   "id": "f9e9d1a17b9229b8",
   "metadata": {
    "collapsed": false,
    "ExecuteTime": {
     "start_time": "2024-08-20T21:44:01.096356600Z"
    }
   },
   "outputs": [],
   "source": []
  }
 ],
 "metadata": {
  "kernelspec": {
   "display_name": "Python 3",
   "language": "python",
   "name": "python3"
  },
  "language_info": {
   "codemirror_mode": {
    "name": "ipython",
    "version": 3
   },
   "file_extension": ".py",
   "mimetype": "text/x-python",
   "name": "python",
   "nbconvert_exporter": "python",
   "pygments_lexer": "ipython3",
   "version": "3.11.3"
  }
 },
 "nbformat": 4,
 "nbformat_minor": 5
}
