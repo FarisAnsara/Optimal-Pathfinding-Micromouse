{
 "cells": [
  {
   "cell_type": "code",
   "execution_count": 35,
   "id": "initial_id",
   "metadata": {
    "collapsed": true,
    "ExecuteTime": {
     "end_time": "2024-08-20T23:34:51.326481200Z",
     "start_time": "2024-08-20T23:34:51.173259500Z"
    }
   },
   "outputs": [],
   "source": [
    "import pandas as pd"
   ]
  },
  {
   "cell_type": "code",
   "execution_count": 36,
   "outputs": [],
   "source": [
    "dynaq = pd.read_csv('results\\csv_files\\competition\\dyna_qlearning_using_time.csv')"
   ],
   "metadata": {
    "collapsed": false,
    "ExecuteTime": {
     "end_time": "2024-08-20T23:34:51.326481200Z",
     "start_time": "2024-08-20T23:34:51.178279100Z"
    }
   },
   "id": "a594ccd00fbfda24"
  },
  {
   "cell_type": "code",
   "execution_count": 37,
   "outputs": [],
   "source": [
    "flood = pd.read_csv('results\\csv_files\\competition/flood_fill.csv')"
   ],
   "metadata": {
    "collapsed": false,
    "ExecuteTime": {
     "end_time": "2024-08-20T23:34:51.383400100Z",
     "start_time": "2024-08-20T23:34:51.187782700Z"
    }
   },
   "id": "6e8b507e1247a838"
  },
  {
   "cell_type": "code",
   "execution_count": 38,
   "outputs": [],
   "source": [
    "dynaq_sarsa = pd.read_csv('results\\csv_files\\competition\\dynaq_sarsa_using_time.csv')"
   ],
   "metadata": {
    "collapsed": false,
    "ExecuteTime": {
     "end_time": "2024-08-20T23:34:51.383400100Z",
     "start_time": "2024-08-20T23:34:51.201220Z"
    }
   },
   "id": "edcb8a7c2ba382a2"
  },
  {
   "cell_type": "code",
   "execution_count": 39,
   "outputs": [],
   "source": [
    "q_learning = pd.read_csv('results\\csv_files\\competition\\qlearning_using_arbitrary.csv')"
   ],
   "metadata": {
    "collapsed": false,
    "ExecuteTime": {
     "end_time": "2024-08-20T23:34:51.383400100Z",
     "start_time": "2024-08-20T23:34:51.215979500Z"
    }
   },
   "id": "367cbeb69e3514fc"
  },
  {
   "cell_type": "code",
   "execution_count": 40,
   "outputs": [
    {
     "data": {
      "text/plain": "21.18585458922575"
     },
     "execution_count": 40,
     "metadata": {},
     "output_type": "execute_result"
    }
   ],
   "source": [
    "flood['Path Time (s)'].mean()"
   ],
   "metadata": {
    "collapsed": false,
    "ExecuteTime": {
     "end_time": "2024-08-20T23:34:51.383400100Z",
     "start_time": "2024-08-20T23:34:51.232952600Z"
    }
   },
   "id": "e7db4052bed61eb3"
  },
  {
   "cell_type": "code",
   "execution_count": 41,
   "outputs": [
    {
     "data": {
      "text/plain": "21.1288689126415"
     },
     "execution_count": 41,
     "metadata": {},
     "output_type": "execute_result"
    }
   ],
   "source": [
    "dynaq['Path Time (s)'].mean()"
   ],
   "metadata": {
    "collapsed": false,
    "ExecuteTime": {
     "end_time": "2024-08-20T23:34:51.383400100Z",
     "start_time": "2024-08-20T23:34:51.241474200Z"
    }
   },
   "id": "c7c7a53b2717f04c"
  },
  {
   "cell_type": "code",
   "execution_count": 42,
   "outputs": [
    {
     "data": {
      "text/plain": "21.66907328560455"
     },
     "execution_count": 42,
     "metadata": {},
     "output_type": "execute_result"
    }
   ],
   "source": [
    "q_learning['Path Time (s)'].mean()\n"
   ],
   "metadata": {
    "collapsed": false,
    "ExecuteTime": {
     "end_time": "2024-08-20T23:34:51.383400100Z",
     "start_time": "2024-08-20T23:34:51.248963100Z"
    }
   },
   "id": "c56fb5b4710a0325"
  },
  {
   "cell_type": "code",
   "execution_count": 43,
   "outputs": [
    {
     "data": {
      "text/plain": "21.29099757895188"
     },
     "execution_count": 43,
     "metadata": {},
     "output_type": "execute_result"
    }
   ],
   "source": [
    "dynaq_sarsa['Path Time (s)'].mean()\n"
   ],
   "metadata": {
    "collapsed": false,
    "ExecuteTime": {
     "end_time": "2024-08-20T23:34:51.383400100Z",
     "start_time": "2024-08-20T23:34:51.257065300Z"
    }
   },
   "id": "c1f7cc96d14ba30c"
  },
  {
   "cell_type": "code",
   "execution_count": 44,
   "outputs": [
    {
     "data": {
      "text/plain": "18.66784378649122"
     },
     "execution_count": 44,
     "metadata": {},
     "output_type": "execute_result"
    }
   ],
   "source": [
    "flood['Path Time (s)'].median()\n"
   ],
   "metadata": {
    "collapsed": false,
    "ExecuteTime": {
     "end_time": "2024-08-20T23:34:51.383400100Z",
     "start_time": "2024-08-20T23:34:51.264872900Z"
    }
   },
   "id": "460e64bcb318da4b"
  },
  {
   "cell_type": "code",
   "execution_count": 45,
   "outputs": [
    {
     "data": {
      "text/plain": "18.12652182518052"
     },
     "execution_count": 45,
     "metadata": {},
     "output_type": "execute_result"
    }
   ],
   "source": [
    "dynaq['Path Time (s)'].median()\n"
   ],
   "metadata": {
    "collapsed": false,
    "ExecuteTime": {
     "end_time": "2024-08-20T23:34:51.383400100Z",
     "start_time": "2024-08-20T23:34:51.273174600Z"
    }
   },
   "id": "f381b22bb8889db4"
  },
  {
   "cell_type": "code",
   "execution_count": 46,
   "outputs": [
    {
     "data": {
      "text/plain": "19.48108640555339"
     },
     "execution_count": 46,
     "metadata": {},
     "output_type": "execute_result"
    }
   ],
   "source": [
    "q_learning['Path Time (s)'].median()\n"
   ],
   "metadata": {
    "collapsed": false,
    "ExecuteTime": {
     "end_time": "2024-08-20T23:34:51.383400100Z",
     "start_time": "2024-08-20T23:34:51.280029200Z"
    }
   },
   "id": "189ebe672b4f24ea"
  },
  {
   "cell_type": "code",
   "execution_count": 47,
   "outputs": [
    {
     "data": {
      "text/plain": "18.231226489503744"
     },
     "execution_count": 47,
     "metadata": {},
     "output_type": "execute_result"
    }
   ],
   "source": [
    "dynaq_sarsa['Path Time (s)'].median()\n"
   ],
   "metadata": {
    "collapsed": false,
    "ExecuteTime": {
     "end_time": "2024-08-20T23:34:51.383400100Z",
     "start_time": "2024-08-20T23:34:51.289206300Z"
    }
   },
   "id": "5e884782c11606aa"
  },
  {
   "cell_type": "code",
   "execution_count": 48,
   "outputs": [
    {
     "data": {
      "text/plain": "13.079261756432505"
     },
     "execution_count": 48,
     "metadata": {},
     "output_type": "execute_result"
    }
   ],
   "source": [
    "flood['Path Time (s)'].std()\n"
   ],
   "metadata": {
    "collapsed": false,
    "ExecuteTime": {
     "end_time": "2024-08-20T23:34:51.383400100Z",
     "start_time": "2024-08-20T23:34:51.295552900Z"
    }
   },
   "id": "e0ba64e9d88f65f2"
  },
  {
   "cell_type": "code",
   "execution_count": 49,
   "outputs": [
    {
     "data": {
      "text/plain": "13.060486338576025"
     },
     "execution_count": 49,
     "metadata": {},
     "output_type": "execute_result"
    }
   ],
   "source": [
    "dynaq['Path Time (s)'].std()\n"
   ],
   "metadata": {
    "collapsed": false,
    "ExecuteTime": {
     "end_time": "2024-08-20T23:34:51.383400100Z",
     "start_time": "2024-08-20T23:34:51.308702400Z"
    }
   },
   "id": "e68f41432c99720d"
  },
  {
   "cell_type": "code",
   "execution_count": 50,
   "outputs": [
    {
     "data": {
      "text/plain": "13.139020786270887"
     },
     "execution_count": 50,
     "metadata": {},
     "output_type": "execute_result"
    }
   ],
   "source": [
    "dynaq_sarsa['Path Time (s)'].std()\n"
   ],
   "metadata": {
    "collapsed": false,
    "ExecuteTime": {
     "end_time": "2024-08-20T23:34:51.383400100Z",
     "start_time": "2024-08-20T23:34:51.312294200Z"
    }
   },
   "id": "89bcbcdd7d2f9830"
  },
  {
   "cell_type": "code",
   "execution_count": 51,
   "outputs": [
    {
     "data": {
      "text/plain": "13.299299363557415"
     },
     "execution_count": 51,
     "metadata": {},
     "output_type": "execute_result"
    }
   ],
   "source": [
    "q_learning['Path Time (s)'].std()\n"
   ],
   "metadata": {
    "collapsed": false,
    "ExecuteTime": {
     "end_time": "2024-08-20T23:34:51.383400100Z",
     "start_time": "2024-08-20T23:34:51.320632800Z"
    }
   },
   "id": "7bf5e79d2a9d8e91"
  }
 ],
 "metadata": {
  "kernelspec": {
   "display_name": "Python 3",
   "language": "python",
   "name": "python3"
  },
  "language_info": {
   "codemirror_mode": {
    "name": "ipython",
    "version": 2
   },
   "file_extension": ".py",
   "mimetype": "text/x-python",
   "name": "python",
   "nbconvert_exporter": "python",
   "pygments_lexer": "ipython2",
   "version": "2.7.6"
  }
 },
 "nbformat": 4,
 "nbformat_minor": 5
}
